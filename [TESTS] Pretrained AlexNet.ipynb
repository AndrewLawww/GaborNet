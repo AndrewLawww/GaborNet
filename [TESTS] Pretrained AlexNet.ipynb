{
 "cells": [
  {
   "cell_type": "code",
   "execution_count": null,
   "metadata": {
    "collapsed": true
   },
   "outputs": [],
   "source": [
    "import torchvision.models as models\n",
    "import torch.nn as nn\n",
    "import torch\n",
    "import os\n",
    "import random\n",
    "from torch.autograd import Variable\n",
    "import torch.nn as nn\n",
    "import torch.nn.functional as F\n",
    "import torch.optim as optim\n",
    "import torch\n",
    "import numpy as np\n",
    "import cv2\n",
    "import matplotlib.pyplot as plt\n",
    "from numpy.random import rand, randn\n",
    "import torchvision.datasets as dset\n",
    "import torchvision.transforms as transforms\n",
    "import matplotlib.pyplot as plt\n",
    "from AffectivNetDataloader import AffectivNetDataset\n",
    "from torchvision import transforms, utils\n",
    "from torch.utils.data import DataLoader"
   ]
  },
  {
   "cell_type": "code",
   "execution_count": null,
   "metadata": {
    "collapsed": false
   },
   "outputs": [],
   "source": [
    "transform = transforms.Compose([transforms.ToPILImage(), transforms.Resize((227,227)), transforms.ToTensor(), transforms.Normalize(mean=[0.485, 0.456, 0.406], std=[0.229, 0.224, 0.225])])\n",
    "train_set = AffectivNetDataset(root_dir='C:\\\\Projects\\\\AffectivNet', csv_file = 'C:\\\\Projects\\\\AffectivNet\\\\clearedTraining.csv', transform=transform, downsample=10000, delete_classes=[4,5,7], check=False)\n",
    "test_set = AffectivNetDataset(root_dir='C:\\\\Projects\\\\AffectivNet', csv_file = 'C:\\\\Projects\\\\AffectivNet\\\\clearedValidation.csv', transform=transform, delete_classes=[4,5,7])\n",
    "train = DataLoader(train_set, batch_size=64, shuffle=True, num_workers=4)\n",
    "test = DataLoader(test_set, batch_size=64, shuffle=True, num_workers=4)"
   ]
  },
  {
   "cell_type": "code",
   "execution_count": null,
   "metadata": {
    "collapsed": false
   },
   "outputs": [],
   "source": [
    "len(train_set.target)"
   ]
  },
  {
   "cell_type": "code",
   "execution_count": null,
   "metadata": {
    "collapsed": false
   },
   "outputs": [],
   "source": [
    "len(train)"
   ]
  },
  {
   "cell_type": "code",
   "execution_count": null,
   "metadata": {
    "collapsed": true
   },
   "outputs": [],
   "source": [
    "alexnet = models.alexnet(pretrained=True)\n",
    "alexnet.classifier._modules['6'] = nn.Linear(4096,5)"
   ]
  },
  {
   "cell_type": "code",
   "execution_count": null,
   "metadata": {
    "collapsed": false
   },
   "outputs": [],
   "source": [
    "one_layer_gnet_acc_train = []\n",
    "one_layer_gnet_loss_train = []\n",
    "one_layer_gnet_acc_test = []\n",
    "one_layer_gnet_loss_test = []\n",
    "\n",
    "two_layer_gnet_acc_train = []\n",
    "two_layer_gnet_loss_train = []\n",
    "two_layer_gnet_acc_test = []\n",
    "two_layer_gnet_loss_test = []\n",
    "\n",
    "convnet_acc_train = []\n",
    "convnet_loss_train = []\n",
    "convnet_acc_test = []\n",
    "convnet_loss_test = []\n",
    "\n",
    "one_layer_cgnet_acc_train = []\n",
    "one_layer_cgnet_loss_train = []\n",
    "one_layer_cgnet_acc_test = []\n",
    "one_layer_cgnet_loss_test = []\n",
    "\n",
    "two_layer_cgnet_acc_train = []\n",
    "two_layer_cgnet_loss_train = []\n",
    "two_layer_cgnet_acc_test = []\n",
    "two_layer_cgnet_loss_test = []"
   ]
  },
  {
   "cell_type": "code",
   "execution_count": null,
   "metadata": {
    "collapsed": false
   },
   "outputs": [],
   "source": [
    "device = torch.device(\"cuda:0\" if torch.cuda.is_available() else \"cpu\")\n",
    "print(device)\n",
    "net = alexnet.to(device)\n",
    "print(net)\n",
    "criterion = nn.CrossEntropyLoss()\n",
    "optimizer = optim.Adam(net.parameters())"
   ]
  },
  {
   "cell_type": "code",
   "execution_count": null,
   "metadata": {
    "collapsed": false
   },
   "outputs": [],
   "source": [
    "net(torch.normal(torch.Tensor(1,3,227 ,227 )).to(device))"
   ]
  },
  {
   "cell_type": "code",
   "execution_count": null,
   "metadata": {
    "collapsed": false
   },
   "outputs": [],
   "source": [
    "for epoch in range(10):\n",
    "\n",
    "    running_loss = 0.0\n",
    "    correct = 0\n",
    "    net.train()\n",
    "    for i, data in enumerate(train, 0):\n",
    "        # get the inputs\n",
    "        inputs, labels = data['image'], data['target']\n",
    "\n",
    "        # zero the parameter gradients\n",
    "        optimizer.zero_grad()\n",
    "\n",
    "        # forward + backward + optimize\n",
    "        outputs = net(inputs.to(device))\n",
    "        labels = labels.type(torch.LongTensor)\n",
    "        loss = criterion(outputs, labels.to(device))\n",
    "        loss.backward()\n",
    "        optimizer.step()\n",
    "        pred = outputs.max(1, keepdim=True)[1].to('cpu')\n",
    "        correct += pred.eq(labels.view_as(pred)).sum().item()\n",
    "        if i != 0 and i % 150 == 0:\n",
    "            print('#', end = '')\n",
    "\n",
    "        # print statistics\n",
    "        running_loss += loss.item()\n",
    "    print('\\n[%d] train_acc: %.3f train_loss: %.3f' %(epoch + 1, correct/len(train_set), running_loss/len(train_set))) \n",
    "    one_layer_gnet_acc_train.append(correct/len(train_set))\n",
    "    one_layer_gnet_loss_train.append(running_loss/len(train_set))\n",
    "    \n",
    "    running_loss = 0.0\n",
    "    correct = 0\n",
    "    with torch.no_grad():\n",
    "        net.eval()\n",
    "        for i, data in enumerate(test, 0):\n",
    "            # get the inputs\n",
    "            inputs, labels = data['image'], data['target']\n",
    "            labels = labels.type(torch.LongTensor)\n",
    "\n",
    "            # forward + backward + optimize\n",
    "            outputs = net(inputs.to(device))\n",
    "            loss = criterion(outputs, torch.LongTensor(labels).to(device))\n",
    "\n",
    "            pred = outputs.max(1, keepdim=True)[1].to('cpu')\n",
    "            correct += pred.eq(labels.view_as(pred)).sum().item()\n",
    "            running_loss += loss.item()\n",
    "    print('[%d] test_acc: %.3f test_loss: %.3f' %(epoch + 1, correct/len(test_set), running_loss/len(test_set)))\n",
    "    one_layer_gnet_acc_test.append(correct/len(test_set))\n",
    "    one_layer_gnet_loss_test.append(running_loss/len(test_set))      \n",
    "\n",
    "print('Finished Training')\n",
    "\n",
    "np.save('AlexNet_acc_train.npy', one_layer_gnet_acc_train)\n",
    "np.save('AlexNet_loss_train.npy', one_layer_gnet_loss_train)\n",
    "np.save('AlexNet_acc_test.npy', one_layer_gnet_acc_test)\n",
    "np.save('AlexNet_loss_test.npy', one_layer_gnet_loss_test)"
   ]
  },
  {
   "cell_type": "code",
   "execution_count": null,
   "metadata": {
    "collapsed": false
   },
   "outputs": [],
   "source": [
    "correct = 0\n",
    "for i, data in enumerate(test):\n",
    "    if i == 1:\n",
    "        break\n",
    "    # get the inputs\n",
    "    inputs, labels = data['image'], data['target']\n",
    "    labels = labels.type(torch.LongTensor)\n",
    "\n",
    "    # forward + backward + optimize\n",
    "    outputs = net(inputs.to(device))\n",
    "    loss = criterion(outputs, labels.to(device))\n",
    "\n",
    "    pred = outputs.max(1, keepdim=True)[1].to('cpu')\n",
    "    correct += pred.eq(labels.view_as(pred)).sum().item()\n",
    "print('labels: {}'.format(labels))\n",
    "print('pred: {}'.format(pred.reshape(-1)))\n",
    "print('correct: {}'.format(correct))"
   ]
  },
  {
   "cell_type": "code",
   "execution_count": null,
   "metadata": {
    "collapsed": false
   },
   "outputs": [],
   "source": [
    "for i in range(len(inputs)):\n",
    "    if labels[i] == 7:\n",
    "        plt.imshow(inputs[i][0].numpy())\n",
    "        plt.show()"
   ]
  },
  {
   "cell_type": "code",
   "execution_count": null,
   "metadata": {
    "collapsed": false
   },
   "outputs": [],
   "source": [
    "print(inputs.mean())"
   ]
  },
  {
   "cell_type": "code",
   "execution_count": null,
   "metadata": {
    "collapsed": false
   },
   "outputs": [],
   "source": [
    "test_set.target.count(7)"
   ]
  },
  {
   "cell_type": "code",
   "execution_count": null,
   "metadata": {
    "collapsed": false
   },
   "outputs": [],
   "source": [
    "train_set.target.count(1)"
   ]
  },
  {
   "cell_type": "code",
   "execution_count": null,
   "metadata": {
    "collapsed": false
   },
   "outputs": [],
   "source": [
    "from skimage import io\n",
    "image = io.imread('D:\\\\AffectivNet\\\\IMAGES\\\\1\\\\0da9ef7c8f852bac98b57d03926465c7312bf0d9accf1a4d56667112.jpg')"
   ]
  },
  {
   "cell_type": "code",
   "execution_count": null,
   "metadata": {
    "collapsed": false
   },
   "outputs": [],
   "source": []
  },
  {
   "cell_type": "code",
   "execution_count": null,
   "metadata": {
    "collapsed": false
   },
   "outputs": [],
   "source": []
  },
  {
   "cell_type": "code",
   "execution_count": null,
   "metadata": {
    "collapsed": true
   },
   "outputs": [],
   "source": []
  }
 ],
 "metadata": {
  "kernelspec": {
   "display_name": "Python [conda env:Anaconda3]",
   "language": "python",
   "name": "conda-env-Anaconda3-py"
  },
  "language_info": {
   "codemirror_mode": {
    "name": "ipython",
    "version": 3
   },
   "file_extension": ".py",
   "mimetype": "text/x-python",
   "name": "python",
   "nbconvert_exporter": "python",
   "pygments_lexer": "ipython3",
   "version": "3.5.2"
  }
 },
 "nbformat": 4,
 "nbformat_minor": 1
}
