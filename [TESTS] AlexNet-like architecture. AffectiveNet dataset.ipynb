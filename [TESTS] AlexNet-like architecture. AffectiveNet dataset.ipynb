{
 "cells": [
  {
   "cell_type": "code",
   "execution_count": 1,
   "metadata": {},
   "outputs": [],
   "source": [
    "import torch.nn as nn\n",
    "import torch\n",
    "import os\n",
    "import random\n",
    "from torch.autograd import Variable\n",
    "import torch.nn as nn\n",
    "import torch.nn.functional as F\n",
    "import torch.optim as optim\n",
    "import torch\n",
    "import numpy as np\n",
    "import cv2\n",
    "import matplotlib.pyplot as plt\n",
    "from numpy.random import rand, randn\n",
    "import torchvision.datasets as dset\n",
    "import torchvision.transforms as transforms\n",
    "import matplotlib.pyplot as plt\n",
    "from AffectivNetDataloader import AffectivNetDataset\n",
    "from torchvision import transforms, utils\n",
    "from torch.utils.data import DataLoader\n",
    "from GaborLayers import GaborConv2d\n",
    "from skimage import io\n",
    "import time"
   ]
  },
  {
   "cell_type": "code",
   "execution_count": null,
   "metadata": {},
   "outputs": [],
   "source": [
    "gl = GaborConv2d(3, 96, kernel_size=(15,15), stride=2)\n",
    "device = torch.device(\"cuda:0\" if torch.cuda.is_available() else \"cpu\")\n",
    "gl.to(device)\n",
    "gl.x0"
   ]
  },
  {
   "cell_type": "code",
   "execution_count": null,
   "metadata": {},
   "outputs": [],
   "source": [
    "res = gl(torch.normal(torch.rand(1,3,256,256)).to(device))"
   ]
  },
  {
   "cell_type": "code",
   "execution_count": null,
   "metadata": {},
   "outputs": [],
   "source": [
    "res.backward(torch.ones_like(res))"
   ]
  },
  {
   "cell_type": "code",
   "execution_count": null,
   "metadata": {},
   "outputs": [],
   "source": [
    "gl.theta.grad.shape"
   ]
  },
  {
   "cell_type": "code",
   "execution_count": 2,
   "metadata": {},
   "outputs": [
    {
     "name": "stdout",
     "output_type": "stream",
     "text": [
      "before check: 273719\n",
      "[0 1 2 3 4]\n",
      "before check: 2500\n",
      "after check: 2500\n",
      "[0 1 2 3 4]\n"
     ]
    }
   ],
   "source": [
    "transform = transforms.Compose([transforms.ToPILImage(), transforms.Resize((256,256)), transforms.ToTensor(), transforms.Normalize(mean=[0.485, 0.456, 0.406], std=[0.229, 0.224, 0.225])])\n",
    "train_set = AffectivNetDataset(root_dir='C:\\\\Projects\\\\AffectivNet', csv_file = 'C:\\\\Projects\\\\AffectivNet\\\\clearedTraining.csv', transform=transform, downsample=25000, delete_classes=[4,5,7], check=False)\n",
    "test_set = AffectivNetDataset(root_dir='C:\\\\Projects\\\\AffectivNet', csv_file = 'C:\\\\Projects\\\\AffectivNet\\\\clearedValidation.csv', transform=transform, delete_classes=[4,5,7])"
   ]
  },
  {
   "cell_type": "code",
   "execution_count": null,
   "metadata": {},
   "outputs": [],
   "source": []
  },
  {
   "cell_type": "code",
   "execution_count": 3,
   "metadata": {},
   "outputs": [],
   "source": [
    "train = DataLoader(train_set, batch_size=128, shuffle=True, num_workers=4)\n",
    "test = DataLoader(test_set, batch_size=128, shuffle=True, num_workers=4)"
   ]
  },
  {
   "cell_type": "code",
   "execution_count": 4,
   "metadata": {},
   "outputs": [
    {
     "data": {
      "text/plain": [
       "977"
      ]
     },
     "execution_count": 4,
     "metadata": {},
     "output_type": "execute_result"
    }
   ],
   "source": [
    "len(train)"
   ]
  },
  {
   "cell_type": "code",
   "execution_count": 5,
   "metadata": {},
   "outputs": [],
   "source": [
    "one_layer_gnet_acc_train = []\n",
    "one_layer_gnet_loss_train = []\n",
    "one_layer_gnet_acc_test = []\n",
    "one_layer_gnet_loss_test = []\n",
    "\n",
    "two_layer_gnet_acc_train = []\n",
    "two_layer_gnet_loss_train = []\n",
    "two_layer_gnet_acc_test = []\n",
    "two_layer_gnet_loss_test = []\n",
    "\n",
    "convnet_acc_train = []\n",
    "convnet_loss_train = []\n",
    "convnet_acc_test = []\n",
    "convnet_loss_test = []\n",
    "\n",
    "one_layer_cgnet_acc_train = []\n",
    "one_layer_cgnet_loss_train = []\n",
    "one_layer_cgnet_acc_test = []\n",
    "one_layer_cgnet_loss_test = []\n",
    "\n",
    "two_layer_cgnet_acc_train = []\n",
    "two_layer_cgnet_loss_train = []\n",
    "two_layer_cgnet_acc_test = []\n",
    "two_layer_cgnet_loss_test = []"
   ]
  },
  {
   "cell_type": "code",
   "execution_count": 6,
   "metadata": {},
   "outputs": [],
   "source": [
    "class GaborNet_one_layer(nn.Module):\n",
    "    def __init__(self):\n",
    "        super(GaborNet_one_layer, self).__init__()\n",
    "        self.g1 = GaborConv2d(3, 96, kernel_size=(15,15), stride=2)\n",
    "        self.c1 = nn.Conv2d(96, 256, kernel_size=(3,3), stride=1)\n",
    "        self.c2 = nn.Conv2d(256, 384, kernel_size=(3,3), stride=1)\n",
    "        self.c3 = nn.Conv2d(384, 384, kernel_size=(3,3), stride=1)\n",
    "        self.c4 = nn.Conv2d(384, 256, kernel_size=(3,3), stride=1)\n",
    "        self.fc1 = nn.Linear(256, 128)\n",
    "        self.fc2 = nn.Linear(128, 5)\n",
    "\n",
    "    def forward(self, x):\n",
    "        x = F.max_pool2d(F.relu(self.g1(x)), kernel_size=2)\n",
    "        x = nn.Dropout2d()(x)\n",
    "        x = F.max_pool2d(F.relu(self.c1(x)), kernel_size=2)\n",
    "        x = nn.Dropout2d()(x)\n",
    "        x = F.max_pool2d(F.relu(self.c2(x)), kernel_size=2)\n",
    "        x = nn.Dropout2d()(x)\n",
    "        x = F.max_pool2d(F.relu(self.c3(x)), kernel_size=2)\n",
    "        x = nn.Dropout2d()(x)\n",
    "        x = F.max_pool2d(F.relu(self.c4(x)), kernel_size=2)\n",
    "        x = nn.Dropout2d()(x)\n",
    "        x = x.view(-1, 256*1*1)\n",
    "        x = F.relu(self.fc1(x))\n",
    "        x = nn.Dropout()(x)\n",
    "        x = self.fc2(x)\n",
    "        return x\n",
    "\n",
    "def weights_init(m):\n",
    "    classname = m.__class__.__name__\n",
    "    if classname.find('Conv') != -1:\n",
    "        nn.init.xavier_uniform_(m.weight.data)"
   ]
  },
  {
   "cell_type": "code",
   "execution_count": 7,
   "metadata": {},
   "outputs": [
    {
     "name": "stdout",
     "output_type": "stream",
     "text": [
      "cuda:0\n",
      "GaborNet_one_layer(\n",
      "  (g1): GaborConv2d(3, 96, kernel_size=(15, 15), stride=(2, 2), bias=False)\n",
      "  (c1): Conv2d(96, 256, kernel_size=(3, 3), stride=(1, 1))\n",
      "  (c2): Conv2d(256, 384, kernel_size=(3, 3), stride=(1, 1))\n",
      "  (c3): Conv2d(384, 384, kernel_size=(3, 3), stride=(1, 1))\n",
      "  (c4): Conv2d(384, 256, kernel_size=(3, 3), stride=(1, 1))\n",
      "  (fc1): Linear(in_features=256, out_features=128, bias=True)\n",
      "  (fc2): Linear(in_features=128, out_features=5, bias=True)\n",
      ")\n"
     ]
    }
   ],
   "source": [
    "device = torch.device(\"cuda:0\" if torch.cuda.is_available() else \"cpu\")\n",
    "print(device)\n",
    "net = GaborNet_one_layer().to(device)\n",
    "#net.apply(weights_init)\n",
    "print(net)\n",
    "criterion = nn.CrossEntropyLoss()\n",
    "optimizer = optim.Adam(net.parameters(), lr=0.0001)"
   ]
  },
  {
   "cell_type": "code",
   "execution_count": 8,
   "metadata": {},
   "outputs": [
    {
     "data": {
      "text/plain": [
       "tensor([[-0.0537,  0.0152, -0.0630, -0.0497,  0.0359]], device='cuda:0',\n",
       "       grad_fn=<AddmmBackward>)"
      ]
     },
     "execution_count": 8,
     "metadata": {},
     "output_type": "execute_result"
    }
   ],
   "source": [
    "net(torch.normal(torch.Tensor(1,3,256,256)).to(device))"
   ]
  },
  {
   "cell_type": "code",
   "execution_count": 11,
   "metadata": {},
   "outputs": [
    {
     "name": "stdout",
     "output_type": "stream",
     "text": [
      "######\n",
      "[1] train_acc: 0.687 train_loss: 0.006\n",
      "[1] test_acc: 0.636 test_loss: 0.008\n",
      "######\n",
      "[2] train_acc: 0.688 train_loss: 0.006\n",
      "[2] test_acc: 0.635 test_loss: 0.008\n",
      "######\n",
      "[3] train_acc: 0.689 train_loss: 0.006\n",
      "[3] test_acc: 0.614 test_loss: 0.008\n",
      "######\n",
      "[4] train_acc: 0.690 train_loss: 0.006\n",
      "[4] test_acc: 0.635 test_loss: 0.008\n",
      "######\n",
      "[5] train_acc: 0.691 train_loss: 0.006\n",
      "[5] test_acc: 0.620 test_loss: 0.008\n",
      "######\n",
      "[6] train_acc: 0.693 train_loss: 0.006\n",
      "[6] test_acc: 0.636 test_loss: 0.008\n",
      "######\n",
      "[7] train_acc: 0.692 train_loss: 0.006\n",
      "[7] test_acc: 0.622 test_loss: 0.008\n",
      "######\n",
      "[8] train_acc: 0.694 train_loss: 0.006\n",
      "[8] test_acc: 0.624 test_loss: 0.008\n",
      "######\n",
      "[9] train_acc: 0.694 train_loss: 0.006\n",
      "[9] test_acc: 0.632 test_loss: 0.008\n",
      "######\n",
      "[10] train_acc: 0.695 train_loss: 0.006\n",
      "[10] test_acc: 0.638 test_loss: 0.008\n",
      "Finished Training\n"
     ]
    }
   ],
   "source": [
    "for epoch in range(10):\n",
    "\n",
    "    running_loss = 0.0\n",
    "    correct = 0\n",
    "    net.train()\n",
    "    for i, data in enumerate(train, 0):\n",
    "        # get the inputs\n",
    "        inputs, labels = data['image'], data['target']\n",
    "\n",
    "        # zero the parameter gradients\n",
    "        optimizer.zero_grad()\n",
    "        labels = labels.type(torch.LongTensor)\n",
    "\n",
    "        # forward + backward + optimize\n",
    "        outputs = net(inputs.to(device))\n",
    "        loss = criterion(outputs, labels.to(device))\n",
    "        loss.backward()\n",
    "        optimizer.step()\n",
    "        pred = outputs.max(1, keepdim=True)[1].to('cpu')\n",
    "        correct += pred.eq(labels.view_as(pred)).sum().item()\n",
    "        if i != 0 and i % 150 == 0:\n",
    "            print('#', end = '')\n",
    "\n",
    "        # print statistics\n",
    "        running_loss += loss.item()\n",
    "    print('\\n[%d] train_acc: %.3f train_loss: %.3f' %(epoch + 1, correct/len(train_set), running_loss/len(train_set))) \n",
    "    one_layer_gnet_acc_train.append(correct/len(train_set))\n",
    "    one_layer_gnet_loss_train.append(running_loss/len(train_set)) \n",
    "    \n",
    "    running_loss = 0.0\n",
    "    correct = 0\n",
    "    with torch.no_grad():\n",
    "        net.eval()\n",
    "        for i, data in enumerate(test, 0):\n",
    "            # get the inputs\n",
    "            inputs, labels = data['image'], data['target']\n",
    "            labels = labels.type(torch.LongTensor)\n",
    "\n",
    "            # forward + backward + optimize\n",
    "            outputs = net(inputs.to(device))\n",
    "            loss = criterion(outputs, labels.to(device))\n",
    "\n",
    "            pred = outputs.max(1, keepdim=True)[1].to('cpu')\n",
    "            correct += pred.eq(labels.view_as(pred)).sum().item()\n",
    "            running_loss += loss.item()\n",
    "    print('[%d] test_acc: %.3f test_loss: %.3f' %(epoch + 1, correct/len(test_set), running_loss/len(test_set)))\n",
    "    one_layer_gnet_acc_test.append(correct/len(test_set))\n",
    "    one_layer_gnet_loss_test.append(running_loss/len(test_set)) \n",
    "\n",
    "print('Finished Training')\n",
    "\n",
    "np.save('AffectiveNet_new_init_one_layer_gnet_acc_train.npy', one_layer_gnet_acc_train)\n",
    "np.save('AffectiveNet_new_init_one_layer_gnet_loss_train.npy', one_layer_gnet_loss_train)\n",
    "np.save('AffectiveNet_new_init_one_layer_gnet_acc_test.npy', one_layer_gnet_acc_test)\n",
    "np.save('AffectiveNet_new_init_one_layer_gnet_loss_test.npy', one_layer_gnet_loss_test)"
   ]
  },
  {
   "cell_type": "code",
   "execution_count": 10,
   "metadata": {},
   "outputs": [],
   "source": [
    "optimizer = optim.Adam(net.parameters(), lr=0.00001)"
   ]
  },
  {
   "cell_type": "code",
   "execution_count": null,
   "metadata": {},
   "outputs": [],
   "source": [
    "np.save('AffectiveNet_new_init_one_layer_gnet_acc_train.npy', one_layer_gnet_acc_train)\n",
    "np.save('AffectiveNet_new_init_one_layer_gnet_loss_train.npy', one_layer_gnet_loss_train)\n",
    "np.save('AffectiveNet_new_init_one_layer_gnet_acc_test.npy', one_layer_gnet_acc_test)\n",
    "np.save('AffectiveNet_new_init_one_layer_gnet_loss_test.npy', one_layer_gnet_loss_test)"
   ]
  },
  {
   "cell_type": "code",
   "execution_count": null,
   "metadata": {},
   "outputs": [],
   "source": [
    "class convNet(nn.Module):\n",
    "    def __init__(self):\n",
    "        super(convNet, self).__init__()\n",
    "        self.c0 = nn.Conv2d(3, 96, kernel_size=(11,11), stride=2)\n",
    "        self.c1 = nn.Conv2d(96, 256, kernel_size=(3,3), stride=1)\n",
    "        self.c2 = nn.Conv2d(256, 384, kernel_size=(3,3), stride=1)\n",
    "        self.c3 = nn.Conv2d(384, 384, kernel_size=(3,3), stride=1)\n",
    "        self.c4 = nn.Conv2d(384, 256, kernel_size=(3,3), stride=1)\n",
    "        self.fc1 = nn.Linear(256, 128)\n",
    "        self.fc2 = nn.Linear(128, 5)\n",
    "\n",
    "    def forward(self, x):\n",
    "        x = F.max_pool2d(F.relu(self.c0(x)), kernel_size=2)\n",
    "        x = nn.Dropout2d()(x)\n",
    "        x = F.max_pool2d(F.relu(self.c1(x)), kernel_size=2)\n",
    "        x = nn.Dropout2d()(x)\n",
    "        x = F.max_pool2d(F.relu(self.c2(x)), kernel_size=2)\n",
    "        x = nn.Dropout2d()(x)\n",
    "        x = F.max_pool2d(F.relu(self.c3(x)), kernel_size=2)\n",
    "        x = nn.Dropout2d()(x)\n",
    "        x = F.max_pool2d(F.relu(self.c4(x)), kernel_size=2)\n",
    "        x = nn.Dropout2d()(x)\n",
    "        x = x.view(-1, 256*1*1)\n",
    "        x = F.relu(self.fc1(x))\n",
    "        x = nn.Dropout()(x)\n",
    "        x = self.fc2(x)\n",
    "        return x"
   ]
  },
  {
   "cell_type": "code",
   "execution_count": null,
   "metadata": {},
   "outputs": [],
   "source": [
    "device = torch.device(\"cuda:0\" if torch.cuda.is_available() else \"cpu\")\n",
    "print(device)\n",
    "net = convNet().to(device)\n",
    "net.apply(weights_init)\n",
    "print(net)\n",
    "criterion = nn.CrossEntropyLoss()\n",
    "optimizer = optim.Adam(net.parameters(), lr=0.0001)"
   ]
  },
  {
   "cell_type": "code",
   "execution_count": null,
   "metadata": {},
   "outputs": [],
   "source": [
    "net(torch.normal(torch.Tensor(1,3,256,256)).to(device))"
   ]
  },
  {
   "cell_type": "code",
   "execution_count": null,
   "metadata": {},
   "outputs": [],
   "source": [
    "for epoch in range(10):\n",
    "\n",
    "    running_loss = 0.0\n",
    "    correct = 0\n",
    "    net.train()\n",
    "    for i, data in enumerate(train, 0):\n",
    "        # get the inputs\n",
    "        inputs, labels = data['image'], data['target']\n",
    "\n",
    "        # zero the parameter gradients\n",
    "        optimizer.zero_grad()\n",
    "\n",
    "        # forward + backward + optimize\n",
    "        outputs = net(inputs.to(device))\n",
    "        labels = labels.type(torch.LongTensor)\n",
    "        loss = criterion(outputs, labels.to(device))\n",
    "        loss.backward()\n",
    "        optimizer.step()\n",
    "        pred = outputs.max(1, keepdim=True)[1].to('cpu')\n",
    "        correct += pred.eq(labels.view_as(pred)).sum().item()\n",
    "        if i != 0 and i % 150 == 0:\n",
    "            print('#', end = '')\n",
    "\n",
    "        # print statistics\n",
    "        running_loss += loss.item()\n",
    "    print('\\n[%d] train_acc: %.3f train_loss: %.3f' %(epoch + 1, correct/len(train_set), running_loss/len(train_set)), end= '\\n') \n",
    "    convnet_acc_train.append(correct/len(train_set))\n",
    "    convnet_loss_train.append(running_loss/len(train_set)) \n",
    "    \n",
    "    running_loss = 0.0\n",
    "    correct = 0\n",
    "    with torch.no_grad():\n",
    "        net.eval()\n",
    "        for i, data in enumerate(test, 0):\n",
    "            # get the inputs\n",
    "            inputs, labels = data['image'], data['target']\n",
    "            labels = labels.type(torch.LongTensor)\n",
    "\n",
    "            # forward + backward + optimize\n",
    "            outputs = net(inputs.to(device))\n",
    "            loss = criterion(outputs, labels.to(device))\n",
    "\n",
    "            pred = outputs.max(1, keepdim=True)[1].to('cpu')\n",
    "            correct += pred.eq(labels.view_as(pred)).sum().item()\n",
    "            running_loss += loss.item()\n",
    "    print('[%d] test_acc: %.3f test_loss: %.3f' %(epoch + 1, correct/len(test_set), running_loss/len(test_set)))\n",
    "    convnet_acc_test.append(correct/len(test_set))\n",
    "    convnet_loss_test.append(running_loss/len(test_set))      \n",
    "\n",
    "print('Finished Training')\n",
    "\n",
    "np.save('AffectiveNet_convnet_acc_train.npy', convnet_acc_train)\n",
    "np.save('AffectiveNet_convnet_loss_train.npy', convnet_loss_train)\n",
    "np.save('AffectiveNet_convnet_acc_test.npy', convnet_acc_test)\n",
    "np.save('AffectiveNet_convnet_loss_test.npy', convnet_loss_test)"
   ]
  },
  {
   "cell_type": "code",
   "execution_count": null,
   "metadata": {},
   "outputs": [],
   "source": [
    "optimizer = optim.Adam(net.parameters(), lr=0.00001)"
   ]
  },
  {
   "cell_type": "code",
   "execution_count": null,
   "metadata": {},
   "outputs": [],
   "source": [
    "np.save('AffectiveNet_convnet_acc_train.npy', convnet_acc_train)\n",
    "np.save('AffectiveNet_convnet_loss_train.npy', convnet_loss_train)\n",
    "np.save('AffectiveNet_convnet_acc_test.npy', convnet_acc_test)\n",
    "np.save('AffectiveNet_convnet_loss_test.npy', convnet_loss_test)"
   ]
  },
  {
   "cell_type": "code",
   "execution_count": null,
   "metadata": {},
   "outputs": [],
   "source": []
  },
  {
   "cell_type": "code",
   "execution_count": 14,
   "metadata": {},
   "outputs": [],
   "source": [
    "one_layer_gnet_acc_train = np.load('AffectiveNet_new_init_one_layer_gnet_acc_train.npy')\n",
    "convnet_acc_train = np.load('AffectiveNet_convnet_acc_train.npy')"
   ]
  },
  {
   "cell_type": "code",
   "execution_count": 15,
   "metadata": {},
   "outputs": [
    {
     "data": {
      "image/png": "[encoded data removed]",
      "text/plain": [
       "<Figure size 432x288 with 1 Axes>"
      ]
     },
     "metadata": {
      "needs_background": "light"
     },
     "output_type": "display_data"
    }
   ],
   "source": [
    "plt.plot(convnet_acc_train, label = 'conv')\n",
    "plt.plot(one_layer_gnet_acc_train, label = 'Gnet')\n",
    "plt.legend(loc = 0)\n",
    "plt.title('train accuracy')\n",
    "plt.show()"
   ]
  },
  {
   "cell_type": "code",
   "execution_count": 16,
   "metadata": {},
   "outputs": [],
   "source": [
    "#one_layer_gnet_acc_test = np.load('AffectiveNet_one_layer_gnet_acc_test.npy')\n",
    "convnet_acc_test = np.load('AffectiveNet_convnet_acc_test.npy')"
   ]
  },
  {
   "cell_type": "code",
   "execution_count": 17,
   "metadata": {},
   "outputs": [
    {
     "data": {
      "image/png": "[encoded data removed]",
      "text/plain": [
       "<Figure size 432x288 with 1 Axes>"
      ]
     },
     "metadata": {
      "needs_background": "light"
     },
     "output_type": "display_data"
    }
   ],
   "source": [
    "plt.plot(convnet_acc_test, label = 'conv')\n",
    "plt.plot(one_layer_gnet_acc_test, label = 'Gnet')\n",
    "plt.legend(loc = 0)\n",
    "plt.title('test accuracy')\n",
    "plt.show()"
   ]
  },
  {
   "cell_type": "code",
   "execution_count": null,
   "metadata": {},
   "outputs": [],
   "source": []
  }
 ],
 "metadata": {
  "anaconda-cloud": {},
  "kernelspec": {
   "display_name": "Python [conda env:Anaconda3]",
   "language": "python",
   "name": "conda-env-Anaconda3-py"
  },
  "language_info": {
   "codemirror_mode": {
    "name": "ipython",
    "version": 3
   },
   "file_extension": ".py",
   "mimetype": "text/x-python",
   "name": "python",
   "nbconvert_exporter": "python",
   "pygments_lexer": "ipython3",
   "version": "3.5.6"
  }
 },
 "nbformat": 4,
 "nbformat_minor": 1
}
