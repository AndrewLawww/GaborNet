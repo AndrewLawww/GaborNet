{
 "cells": [
  {
   "cell_type": "markdown",
   "metadata": {},
   "source": [
    "GaborNet with FC gabor parameters optimization"
   ]
  },
  {
   "cell_type": "code",
   "execution_count": 80,
   "metadata": {
    "collapsed": true
   },
   "outputs": [],
   "source": [
    "import torch.nn as nn\n",
    "import torch.nn.functional as F\n",
    "import torch.optim as optim\n",
    "import torch\n",
    "import numpy as np\n",
    "import cv2\n",
    "import matplotlib.pyplot as plt\n",
    "from numpy.random import rand, randn\n",
    "import torchvision.datasets as dset\n",
    "import torchvision.transforms as transforms"
   ]
  },
  {
   "cell_type": "code",
   "execution_count": 68,
   "metadata": {
    "collapsed": true
   },
   "outputs": [],
   "source": [
    "def getRandomGaborParams(size):\n",
    "    theta = np.pi*(2*rand() - 1)\n",
    "    psi = np.pi*rand()\n",
    "    sigma = 3*np.abs(randn()) + 10e-3\n",
    "    lambd = 5*np.abs(randn()) + 10e-3\n",
    "    gamma = np.pi*rand()\n",
    "    return {'ksize':size, 'sigma':sigma, 'theta': theta, 'lambd':lambd, 'gamma':gamma, 'psi': psi}\n",
    "\n",
    "def calcGaborKernel(params):\n",
    "    return cv2.getGaborKernel(**params)\n",
    "\n",
    "def getParams(params):\n",
    "    return np.array([[params['sigma']], [params['theta']], [params['lambd']], [params['gamma']], [params['psi']]])"
   ]
  },
  {
   "cell_type": "code",
   "execution_count": 114,
   "metadata": {
    "collapsed": false
   },
   "outputs": [
    {
     "name": "stdout",
     "output_type": "stream",
     "text": [
      "28.0\n",
      "24.0\n"
     ]
    }
   ],
   "source": [
    "Win = 32\n",
    "K = 5\n",
    "S = 1\n",
    "P = 0\n",
    "for i in range(2):\n",
    "    Win = (Win - K + 2*P)/S + 1\n",
    "    print(Win)"
   ]
  },
  {
   "cell_type": "code",
   "execution_count": 53,
   "metadata": {
    "collapsed": true
   },
   "outputs": [],
   "source": [
    "class ChildNet(nn.Module):\n",
    "    def __init__(self):\n",
    "        \n",
    "        super(ChildNet, self).__init__()\n",
    "        self.params = nn.Linear(1,15)\n",
    "        self.fc1 = nn.Linear(15, 50)\n",
    "        self.fc2 = nn.Linear(50, 100)\n",
    "        self.fc3 = nn.Linear(100, 200)\n",
    "        self.fc4 = nn.Linear(200, 400)\n",
    "        self.fc5 = nn.Linear(400, 500)\n",
    "\n",
    "    def forward(self, x):\n",
    "        x = F.relu(self.fc1(x))\n",
    "        x = F.relu(self.fc2(x))\n",
    "        x = F.relu(self.fc3(x))\n",
    "        x = F.relu(self.fc4(x))\n",
    "        x = self.fc5(x)\n",
    "        return x"
   ]
  },
  {
   "cell_type": "code",
   "execution_count": 128,
   "metadata": {
    "collapsed": true
   },
   "outputs": [],
   "source": [
    "class ParentNet(nn.Module):\n",
    "    def __init__(self, out_filters = 1):\n",
    "        super(ParentNet, self).__init__()\n",
    "        \n",
    "        self.g1 = nn.Conv2d(1,1, kernel_size=15, padding=7, bias = False)\n",
    "        self.g2 = nn.Conv2d(1,1, kernel_size=15, padding=7, bias = False)\n",
    "        self.g3 = nn.Conv2d(1,1, kernel_size=15, padding=7, bias = False)\n",
    "        self.fc4 = nn.Linear(28*28*1, 500)\n",
    "        self.fc5 = nn.Linear(500, 10)\n",
    "\n",
    "    def forward(self, x):\n",
    "        with torch.no_grad():\n",
    "            x = F.relu(self.g1(x))\n",
    "            x = F.relu(self.g2(x))\n",
    "            x = F.relu(self.g3(x))\n",
    "        x = x.view(-1, 28*28)\n",
    "        x = F.relu(self.fc4(x))\n",
    "        x = F.softmax(self.fc5(x))\n",
    "        return x\n",
    "    \n",
    "    def update_gabor(self, params):\n",
    "        p = 0\n",
    "        for layer in [self.g1, self.g2, self.g3]:\n",
    "            for i in range(layer.in_channels):\n",
    "                for j in range(layer.out_channels):\n",
    "                    if p < len(params):\n",
    "                        layer.weight[0][0] = torch.tensor(calcGaborKernel({'ksize':layer.weight[0][0].data.numpy().shape, 'sigma':params[0], 'theta': params[1], 'lambd':params[2], 'gamma':params[3], 'psi': params[4]}))\n",
    "                        p += 5"
   ]
  },
  {
   "cell_type": "code",
   "execution_count": 129,
   "metadata": {
    "collapsed": false
   },
   "outputs": [],
   "source": [
    "transform = transforms.Compose([transforms.ToTensor()])\n",
    "\n",
    "train_set = dset.MNIST(root='', train=True, download=True, transform=transform)\n",
    "test_set = dset.MNIST(root='', train=False, download=True, transform=transform)\n",
    "\n",
    "batch_size = 128\n",
    "\n",
    "train_loader = torch.utils.data.DataLoader(\n",
    "                 dataset=train_set,\n",
    "                 batch_size=batch_size,\n",
    "                 shuffle=True)\n",
    "test_loader = torch.utils.data.DataLoader(\n",
    "                dataset=test_set,\n",
    "                batch_size=batch_size,\n",
    "                shuffle=False)"
   ]
  },
  {
   "cell_type": "code",
   "execution_count": 130,
   "metadata": {
    "collapsed": false
   },
   "outputs": [
    {
     "data": {
      "text/plain": [
       "<torch.utils.data.dataloader.DataLoader at 0x2a589a8d1d0>"
      ]
     },
     "execution_count": 130,
     "metadata": {},
     "output_type": "execute_result"
    }
   ],
   "source": [
    "train_loader"
   ]
  },
  {
   "cell_type": "code",
   "execution_count": 131,
   "metadata": {
    "collapsed": false
   },
   "outputs": [],
   "source": [
    "dataiter = iter(train_loader)\n",
    "images, labels = dataiter.next()"
   ]
  },
  {
   "cell_type": "code",
   "execution_count": 132,
   "metadata": {
    "collapsed": false
   },
   "outputs": [
    {
     "name": "stdout",
     "output_type": "stream",
     "text": [
      "==>>> total trainning batch number: 469\n",
      "==>>> total testing batch number: 79\n"
     ]
    }
   ],
   "source": [
    "print('==>>> total trainning batch number: {}'.format(len(train_loader)))\n",
    "print('==>>> total testing batch number: {}'.format(len(test_loader)))"
   ]
  },
  {
   "cell_type": "code",
   "execution_count": 135,
   "metadata": {
    "collapsed": false
   },
   "outputs": [
    {
     "name": "stderr",
     "output_type": "stream",
     "text": [
      "C:\\Users\\User\\Anaconda3\\lib\\site-packages\\ipykernel\\__main__.py:18: UserWarning: Implicit dimension choice for softmax has been deprecated. Change the call to include dim=X as an argument.\n"
     ]
    },
    {
     "name": "stdout",
     "output_type": "stream",
     "text": [
      "[1,   200] loss: 0.216\n",
      "Parameter containing:\n",
      "tensor([[ 4.6909],\n",
      "        [-0.1307],\n",
      "        [ 2.8460],\n",
      "        [ 2.5066],\n",
      "        [ 0.6619],\n",
      "        [ 2.7616],\n",
      "        [ 0.5156],\n",
      "        [ 2.0610],\n",
      "        [ 2.0864],\n",
      "        [ 3.0508],\n",
      "        [ 1.0943],\n",
      "        [ 2.0181],\n",
      "        [ 4.7917],\n",
      "        [ 0.5694],\n",
      "        [ 2.5380]], grad_fn=<CopySlices>)\n",
      "[2,   200] loss: 0.191\n",
      "Parameter containing:\n",
      "tensor([[ 4.6909],\n",
      "        [-0.1307],\n",
      "        [ 2.8460],\n",
      "        [ 2.5066],\n",
      "        [ 0.6619],\n",
      "        [ 2.7616],\n",
      "        [ 0.5156],\n",
      "        [ 2.0610],\n",
      "        [ 2.0864],\n",
      "        [ 3.0508],\n",
      "        [ 1.0943],\n",
      "        [ 2.0181],\n",
      "        [ 4.7917],\n",
      "        [ 0.5694],\n",
      "        [ 2.5380]], grad_fn=<CopySlices>)\n"
     ]
    },
    {
     "ename": "KeyboardInterrupt",
     "evalue": "",
     "output_type": "error",
     "traceback": [
      "\u001b[0;31m---------------------------------------------------------------------------\u001b[0m",
      "\u001b[0;31mKeyboardInterrupt\u001b[0m                         Traceback (most recent call last)",
      "\u001b[0;32m<ipython-input-135-d26712418651>\u001b[0m in \u001b[0;36m<module>\u001b[0;34m()\u001b[0m\n\u001b[1;32m     21\u001b[0m \u001b[1;33m\u001b[0m\u001b[0m\n\u001b[1;32m     22\u001b[0m     \u001b[0mrunning_loss\u001b[0m \u001b[1;33m=\u001b[0m \u001b[1;36m0.0\u001b[0m\u001b[1;33m\u001b[0m\u001b[0m\n\u001b[0;32m---> 23\u001b[0;31m     \u001b[1;32mfor\u001b[0m \u001b[0mi\u001b[0m\u001b[1;33m,\u001b[0m \u001b[0mdata\u001b[0m \u001b[1;32min\u001b[0m \u001b[0menumerate\u001b[0m\u001b[1;33m(\u001b[0m\u001b[0mtrain_loader\u001b[0m\u001b[1;33m,\u001b[0m \u001b[1;36m0\u001b[0m\u001b[1;33m)\u001b[0m\u001b[1;33m:\u001b[0m\u001b[1;33m\u001b[0m\u001b[0m\n\u001b[0m\u001b[1;32m     24\u001b[0m         \u001b[1;31m# get the inputs\u001b[0m\u001b[1;33m\u001b[0m\u001b[1;33m\u001b[0m\u001b[0m\n\u001b[1;32m     25\u001b[0m         \u001b[0minputs\u001b[0m\u001b[1;33m,\u001b[0m \u001b[0mlabels\u001b[0m \u001b[1;33m=\u001b[0m \u001b[0mdata\u001b[0m\u001b[1;33m\u001b[0m\u001b[0m\n",
      "\u001b[0;32mC:\\Users\\User\\Anaconda3\\lib\\site-packages\\torch\\utils\\data\\dataloader.py\u001b[0m in \u001b[0;36m__next__\u001b[0;34m(self)\u001b[0m\n\u001b[1;32m    312\u001b[0m         \u001b[1;32mif\u001b[0m \u001b[0mself\u001b[0m\u001b[1;33m.\u001b[0m\u001b[0mnum_workers\u001b[0m \u001b[1;33m==\u001b[0m \u001b[1;36m0\u001b[0m\u001b[1;33m:\u001b[0m  \u001b[1;31m# same-process loading\u001b[0m\u001b[1;33m\u001b[0m\u001b[0m\n\u001b[1;32m    313\u001b[0m             \u001b[0mindices\u001b[0m \u001b[1;33m=\u001b[0m \u001b[0mnext\u001b[0m\u001b[1;33m(\u001b[0m\u001b[0mself\u001b[0m\u001b[1;33m.\u001b[0m\u001b[0msample_iter\u001b[0m\u001b[1;33m)\u001b[0m  \u001b[1;31m# may raise StopIteration\u001b[0m\u001b[1;33m\u001b[0m\u001b[0m\n\u001b[0;32m--> 314\u001b[0;31m             \u001b[0mbatch\u001b[0m \u001b[1;33m=\u001b[0m \u001b[0mself\u001b[0m\u001b[1;33m.\u001b[0m\u001b[0mcollate_fn\u001b[0m\u001b[1;33m(\u001b[0m\u001b[1;33m[\u001b[0m\u001b[0mself\u001b[0m\u001b[1;33m.\u001b[0m\u001b[0mdataset\u001b[0m\u001b[1;33m[\u001b[0m\u001b[0mi\u001b[0m\u001b[1;33m]\u001b[0m \u001b[1;32mfor\u001b[0m \u001b[0mi\u001b[0m \u001b[1;32min\u001b[0m \u001b[0mindices\u001b[0m\u001b[1;33m]\u001b[0m\u001b[1;33m)\u001b[0m\u001b[1;33m\u001b[0m\u001b[0m\n\u001b[0m\u001b[1;32m    315\u001b[0m             \u001b[1;32mif\u001b[0m \u001b[0mself\u001b[0m\u001b[1;33m.\u001b[0m\u001b[0mpin_memory\u001b[0m\u001b[1;33m:\u001b[0m\u001b[1;33m\u001b[0m\u001b[0m\n\u001b[1;32m    316\u001b[0m                 \u001b[0mbatch\u001b[0m \u001b[1;33m=\u001b[0m \u001b[0mpin_memory_batch\u001b[0m\u001b[1;33m(\u001b[0m\u001b[0mbatch\u001b[0m\u001b[1;33m)\u001b[0m\u001b[1;33m\u001b[0m\u001b[0m\n",
      "\u001b[0;32mC:\\Users\\User\\Anaconda3\\lib\\site-packages\\torch\\utils\\data\\dataloader.py\u001b[0m in \u001b[0;36m<listcomp>\u001b[0;34m(.0)\u001b[0m\n\u001b[1;32m    312\u001b[0m         \u001b[1;32mif\u001b[0m \u001b[0mself\u001b[0m\u001b[1;33m.\u001b[0m\u001b[0mnum_workers\u001b[0m \u001b[1;33m==\u001b[0m \u001b[1;36m0\u001b[0m\u001b[1;33m:\u001b[0m  \u001b[1;31m# same-process loading\u001b[0m\u001b[1;33m\u001b[0m\u001b[0m\n\u001b[1;32m    313\u001b[0m             \u001b[0mindices\u001b[0m \u001b[1;33m=\u001b[0m \u001b[0mnext\u001b[0m\u001b[1;33m(\u001b[0m\u001b[0mself\u001b[0m\u001b[1;33m.\u001b[0m\u001b[0msample_iter\u001b[0m\u001b[1;33m)\u001b[0m  \u001b[1;31m# may raise StopIteration\u001b[0m\u001b[1;33m\u001b[0m\u001b[0m\n\u001b[0;32m--> 314\u001b[0;31m             \u001b[0mbatch\u001b[0m \u001b[1;33m=\u001b[0m \u001b[0mself\u001b[0m\u001b[1;33m.\u001b[0m\u001b[0mcollate_fn\u001b[0m\u001b[1;33m(\u001b[0m\u001b[1;33m[\u001b[0m\u001b[0mself\u001b[0m\u001b[1;33m.\u001b[0m\u001b[0mdataset\u001b[0m\u001b[1;33m[\u001b[0m\u001b[0mi\u001b[0m\u001b[1;33m]\u001b[0m \u001b[1;32mfor\u001b[0m \u001b[0mi\u001b[0m \u001b[1;32min\u001b[0m \u001b[0mindices\u001b[0m\u001b[1;33m]\u001b[0m\u001b[1;33m)\u001b[0m\u001b[1;33m\u001b[0m\u001b[0m\n\u001b[0m\u001b[1;32m    315\u001b[0m             \u001b[1;32mif\u001b[0m \u001b[0mself\u001b[0m\u001b[1;33m.\u001b[0m\u001b[0mpin_memory\u001b[0m\u001b[1;33m:\u001b[0m\u001b[1;33m\u001b[0m\u001b[0m\n\u001b[1;32m    316\u001b[0m                 \u001b[0mbatch\u001b[0m \u001b[1;33m=\u001b[0m \u001b[0mpin_memory_batch\u001b[0m\u001b[1;33m(\u001b[0m\u001b[0mbatch\u001b[0m\u001b[1;33m)\u001b[0m\u001b[1;33m\u001b[0m\u001b[0m\n",
      "\u001b[0;32mC:\\Users\\User\\Anaconda3\\lib\\site-packages\\torchvision\\datasets\\mnist.py\u001b[0m in \u001b[0;36m__getitem__\u001b[0;34m(self, index)\u001b[0m\n\u001b[1;32m     75\u001b[0m \u001b[1;33m\u001b[0m\u001b[0m\n\u001b[1;32m     76\u001b[0m         \u001b[1;32mif\u001b[0m \u001b[0mself\u001b[0m\u001b[1;33m.\u001b[0m\u001b[0mtransform\u001b[0m \u001b[1;32mis\u001b[0m \u001b[1;32mnot\u001b[0m \u001b[1;32mNone\u001b[0m\u001b[1;33m:\u001b[0m\u001b[1;33m\u001b[0m\u001b[0m\n\u001b[0;32m---> 77\u001b[0;31m             \u001b[0mimg\u001b[0m \u001b[1;33m=\u001b[0m \u001b[0mself\u001b[0m\u001b[1;33m.\u001b[0m\u001b[0mtransform\u001b[0m\u001b[1;33m(\u001b[0m\u001b[0mimg\u001b[0m\u001b[1;33m)\u001b[0m\u001b[1;33m\u001b[0m\u001b[0m\n\u001b[0m\u001b[1;32m     78\u001b[0m \u001b[1;33m\u001b[0m\u001b[0m\n\u001b[1;32m     79\u001b[0m         \u001b[1;32mif\u001b[0m \u001b[0mself\u001b[0m\u001b[1;33m.\u001b[0m\u001b[0mtarget_transform\u001b[0m \u001b[1;32mis\u001b[0m \u001b[1;32mnot\u001b[0m \u001b[1;32mNone\u001b[0m\u001b[1;33m:\u001b[0m\u001b[1;33m\u001b[0m\u001b[0m\n",
      "\u001b[0;32mC:\\Users\\User\\Anaconda3\\lib\\site-packages\\torchvision\\transforms\\transforms.py\u001b[0m in \u001b[0;36m__call__\u001b[0;34m(self, img)\u001b[0m\n\u001b[1;32m     47\u001b[0m     \u001b[1;32mdef\u001b[0m \u001b[0m__call__\u001b[0m\u001b[1;33m(\u001b[0m\u001b[0mself\u001b[0m\u001b[1;33m,\u001b[0m \u001b[0mimg\u001b[0m\u001b[1;33m)\u001b[0m\u001b[1;33m:\u001b[0m\u001b[1;33m\u001b[0m\u001b[0m\n\u001b[1;32m     48\u001b[0m         \u001b[1;32mfor\u001b[0m \u001b[0mt\u001b[0m \u001b[1;32min\u001b[0m \u001b[0mself\u001b[0m\u001b[1;33m.\u001b[0m\u001b[0mtransforms\u001b[0m\u001b[1;33m:\u001b[0m\u001b[1;33m\u001b[0m\u001b[0m\n\u001b[0;32m---> 49\u001b[0;31m             \u001b[0mimg\u001b[0m \u001b[1;33m=\u001b[0m \u001b[0mt\u001b[0m\u001b[1;33m(\u001b[0m\u001b[0mimg\u001b[0m\u001b[1;33m)\u001b[0m\u001b[1;33m\u001b[0m\u001b[0m\n\u001b[0m\u001b[1;32m     50\u001b[0m         \u001b[1;32mreturn\u001b[0m \u001b[0mimg\u001b[0m\u001b[1;33m\u001b[0m\u001b[0m\n\u001b[1;32m     51\u001b[0m \u001b[1;33m\u001b[0m\u001b[0m\n",
      "\u001b[0;32mC:\\Users\\User\\Anaconda3\\lib\\site-packages\\torchvision\\transforms\\transforms.py\u001b[0m in \u001b[0;36m__call__\u001b[0;34m(self, pic)\u001b[0m\n\u001b[1;32m     74\u001b[0m             \u001b[0mTensor\u001b[0m\u001b[1;33m:\u001b[0m \u001b[0mConverted\u001b[0m \u001b[0mimage\u001b[0m\u001b[1;33m.\u001b[0m\u001b[1;33m\u001b[0m\u001b[0m\n\u001b[1;32m     75\u001b[0m         \"\"\"\n\u001b[0;32m---> 76\u001b[0;31m         \u001b[1;32mreturn\u001b[0m \u001b[0mF\u001b[0m\u001b[1;33m.\u001b[0m\u001b[0mto_tensor\u001b[0m\u001b[1;33m(\u001b[0m\u001b[0mpic\u001b[0m\u001b[1;33m)\u001b[0m\u001b[1;33m\u001b[0m\u001b[0m\n\u001b[0m\u001b[1;32m     77\u001b[0m \u001b[1;33m\u001b[0m\u001b[0m\n\u001b[1;32m     78\u001b[0m     \u001b[1;32mdef\u001b[0m \u001b[0m__repr__\u001b[0m\u001b[1;33m(\u001b[0m\u001b[0mself\u001b[0m\u001b[1;33m)\u001b[0m\u001b[1;33m:\u001b[0m\u001b[1;33m\u001b[0m\u001b[0m\n",
      "\u001b[0;32mC:\\Users\\User\\Anaconda3\\lib\\site-packages\\torchvision\\transforms\\functional.py\u001b[0m in \u001b[0;36mto_tensor\u001b[0;34m(pic)\u001b[0m\n\u001b[1;32m     76\u001b[0m     \u001b[1;32melse\u001b[0m\u001b[1;33m:\u001b[0m\u001b[1;33m\u001b[0m\u001b[0m\n\u001b[1;32m     77\u001b[0m         \u001b[0mnchannel\u001b[0m \u001b[1;33m=\u001b[0m \u001b[0mlen\u001b[0m\u001b[1;33m(\u001b[0m\u001b[0mpic\u001b[0m\u001b[1;33m.\u001b[0m\u001b[0mmode\u001b[0m\u001b[1;33m)\u001b[0m\u001b[1;33m\u001b[0m\u001b[0m\n\u001b[0;32m---> 78\u001b[0;31m     \u001b[0mimg\u001b[0m \u001b[1;33m=\u001b[0m \u001b[0mimg\u001b[0m\u001b[1;33m.\u001b[0m\u001b[0mview\u001b[0m\u001b[1;33m(\u001b[0m\u001b[0mpic\u001b[0m\u001b[1;33m.\u001b[0m\u001b[0msize\u001b[0m\u001b[1;33m[\u001b[0m\u001b[1;36m1\u001b[0m\u001b[1;33m]\u001b[0m\u001b[1;33m,\u001b[0m \u001b[0mpic\u001b[0m\u001b[1;33m.\u001b[0m\u001b[0msize\u001b[0m\u001b[1;33m[\u001b[0m\u001b[1;36m0\u001b[0m\u001b[1;33m]\u001b[0m\u001b[1;33m,\u001b[0m \u001b[0mnchannel\u001b[0m\u001b[1;33m)\u001b[0m\u001b[1;33m\u001b[0m\u001b[0m\n\u001b[0m\u001b[1;32m     79\u001b[0m     \u001b[1;31m# put it from HWC to CHW format\u001b[0m\u001b[1;33m\u001b[0m\u001b[1;33m\u001b[0m\u001b[0m\n\u001b[1;32m     80\u001b[0m     \u001b[1;31m# yikes, this transpose takes 80% of the loading time/CPU\u001b[0m\u001b[1;33m\u001b[0m\u001b[1;33m\u001b[0m\u001b[0m\n",
      "\u001b[0;31mKeyboardInterrupt\u001b[0m: "
     ]
    }
   ],
   "source": [
    "child = ChildNet()\n",
    "parent = ParentNet()\n",
    "\n",
    "criterion = nn.CrossEntropyLoss()\n",
    "optimizer = optim.SGD(parent.parameters(), lr=0.001, momentum=0.9)\n",
    "child_optimizer = optim.SGD(child.parameters(), lr=0.01, momentum=0.9)\n",
    "\n",
    "params = getRandomGaborParams(size = (15,15))\n",
    "parent.g1.weight[0][0] = torch.tensor(calcGaborKernel(params))\n",
    "child.params.weight[0:5] = torch.tensor(getParams(params))\n",
    "\n",
    "params = getRandomGaborParams(size = (15,15))\n",
    "parent.g2.weight[0][0] = torch.tensor(calcGaborKernel(params))\n",
    "child.params.weight[5:10] = torch.tensor(getParams(params))\n",
    "\n",
    "params = getRandomGaborParams(size = (15,15))\n",
    "parent.g3.weight[0][0] = torch.tensor(calcGaborKernel(params))\n",
    "child.params.weight[10:15] = torch.tensor(getParams(params))\n",
    "\n",
    "for epoch in range(50):  # loop over the dataset multiple times\n",
    "\n",
    "    running_loss = 0.0\n",
    "    for i, data in enumerate(train_loader, 0):\n",
    "        # get the inputs\n",
    "        inputs, labels = data\n",
    "        # zero the parameter gradients\n",
    "        optimizer.zero_grad()\n",
    "\n",
    "        # forward + backward + optimize\n",
    "        outputs = parent(inputs)\n",
    "        loss = criterion(outputs, labels)\n",
    "        loss.backward()\n",
    "        optimizer.step()\n",
    "        \n",
    "        child_optimizer.step()\n",
    "        \n",
    "        \n",
    "        parent.update_gabor(child.params.weight.view(15))\n",
    "\n",
    "        # print statistics\n",
    "        running_loss += loss.item()\n",
    "        if i % 2000 == 199:    # print every 2000 mini-batches\n",
    "            print('[%d, %5d] loss: %.3f' %\n",
    "                  (epoch + 1, i + 1, running_loss / 2000))\n",
    "            print(child.params.weight)\n",
    "            running_loss = 0.0\n",
    "\n",
    "print('Finished Training')"
   ]
  },
  {
   "cell_type": "code",
   "execution_count": 152,
   "metadata": {
    "collapsed": false
   },
   "outputs": [],
   "source": [
    "parent.zero_grad()\n",
    "child = ChildNet()\n",
    "parent = ParentNet()\n",
    "parent.zero_grad()"
   ]
  },
  {
   "cell_type": "code",
   "execution_count": 153,
   "metadata": {
    "collapsed": false
   },
   "outputs": [
    {
     "name": "stdout",
     "output_type": "stream",
     "text": [
      "None\n"
     ]
    }
   ],
   "source": [
    "print(parent.fc4.weight.grad)"
   ]
  },
  {
   "cell_type": "code",
   "execution_count": 70,
   "metadata": {
    "collapsed": false
   },
   "outputs": [
    {
     "data": {
      "text/plain": [
       "(5, 1)"
      ]
     },
     "execution_count": 70,
     "metadata": {},
     "output_type": "execute_result"
    }
   ],
   "source": [
    "getParams(getRandomGaborParams(size = (15,15))).shape"
   ]
  },
  {
   "cell_type": "code",
   "execution_count": 194,
   "metadata": {
    "collapsed": false
   },
   "outputs": [
    {
     "name": "stdout",
     "output_type": "stream",
     "text": [
      "Net(\n",
      "  (conv1): Conv2d(1, 6, kernel_size=(5, 5), stride=(1, 1))\n",
      "  (conv2): Conv2d(6, 16, kernel_size=(5, 5), stride=(1, 1))\n",
      "  (fc1): Linear(in_features=400, out_features=120, bias=True)\n",
      "  (fc2): Linear(in_features=120, out_features=84, bias=True)\n",
      "  (fc3): Linear(in_features=84, out_features=10, bias=True)\n",
      ")\n",
      "tensor([[-0.0346,  0.0628,  0.0617, -0.0090,  0.0616,  0.0572,  0.0331, -0.0595,\n",
      "         -0.0496, -0.0514]], grad_fn=<ThAddmmBackward>)\n"
     ]
    }
   ],
   "source": [
    "class Net(nn.Module):\n",
    "\n",
    "    def __init__(self):\n",
    "        super(Net, self).__init__()\n",
    "        # 1 input image channel, 6 output channels, 5x5 square convolution\n",
    "        # kernel\n",
    "        self.conv1 = nn.Conv2d(1, 6, 5)\n",
    "        self.conv2 = nn.Conv2d(6, 16, 5)\n",
    "        # an affine operation: y = Wx + b\n",
    "        self.fc1 = nn.Linear(16 * 5 * 5, 120)\n",
    "        self.fc2 = nn.Linear(120, 84)\n",
    "        self.fc3 = nn.Linear(84, 10)\n",
    "\n",
    "    def forward(self, x):\n",
    "        # Max pooling over a (2, 2) window\n",
    "        x = F.max_pool2d(F.relu(self.conv1(x)), (2, 2))\n",
    "        # If the size is a square you can only specify a single number\n",
    "        x = F.max_pool2d(F.relu(self.conv2(x)), 2)\n",
    "        x = x.view(-1, self.num_flat_features(x))\n",
    "        #with torch.no_grad():\n",
    "        x = F.relu(self.fc1(x))\n",
    "        x = F.relu(self.fc2(x))\n",
    "        x = self.fc3(x)\n",
    "        return x\n",
    "\n",
    "    def num_flat_features(self, x):\n",
    "        size = x.size()[1:]  # all dimensions except the batch dimension\n",
    "        num_features = 1\n",
    "        for s in size:\n",
    "            num_features *= s\n",
    "        return num_features\n",
    "\n",
    "\n",
    "net = Net()\n",
    "print(net)\n",
    "\n",
    "input = torch.randn(1, 1, 32, 32)\n",
    "out = net(input)\n",
    "print(out)"
   ]
  },
  {
   "cell_type": "code",
   "execution_count": 195,
   "metadata": {
    "collapsed": true
   },
   "outputs": [],
   "source": [
    "net.zero_grad()"
   ]
  },
  {
   "cell_type": "code",
   "execution_count": 201,
   "metadata": {
    "collapsed": false
   },
   "outputs": [
    {
     "name": "stdout",
     "output_type": "stream",
     "text": [
      "tensor(0.6497, grad_fn=<MseLossBackward>)\n",
      "conv1.bias.grad before backward\n",
      "tensor([0., 0., 0., 0., 0., 0.])\n",
      "conv1.bias.grad after backward\n",
      "tensor([-0.0477, -0.0708, -0.0770, -0.0847,  0.0820,  0.0256])\n"
     ]
    }
   ],
   "source": [
    "input = torch.randn(1, 1, 32, 32)\n",
    "output = net(input)\n",
    "target = torch.randn(10)  # a dummy target, for example\n",
    "target = target.view(1, -1)  # make it the same shape as output\n",
    "criterion = nn.MSELoss()\n",
    "\n",
    "loss = criterion(output, target)\n",
    "print(loss)\n",
    "\n",
    "net.zero_grad()     # zeroes the gradient buffers of all parameters\n",
    "\n",
    "print('conv1.bias.grad before backward')\n",
    "print(net.conv1.bias.grad)\n",
    "\n",
    "output.backward(torch.randn(1, 10))\n",
    "\n",
    "print('conv1.bias.grad after backward')\n",
    "print(net.conv1.bias.grad)\n",
    "\n",
    "optimizer.step() "
   ]
  },
  {
   "cell_type": "code",
   "execution_count": 193,
   "metadata": {
    "collapsed": false
   },
   "outputs": [
    {
     "data": {
      "text/plain": [
       "tensor([[[[ 1.4619e-02,  1.9396e-02,  7.1326e-03,  2.0531e-02,  4.0347e-03],\n",
       "          [ 2.1564e-02,  2.8289e-03,  1.0601e-02,  2.0381e-02,  8.2842e-03],\n",
       "          [ 1.8276e-02,  6.2506e-03,  7.9992e-03,  9.3295e-03,  9.1446e-03],\n",
       "          [ 5.2225e-03,  2.2626e-02,  4.0156e-03,  7.5353e-03,  2.2132e-02],\n",
       "          [ 6.7971e-03,  1.8249e-02,  2.7916e-02,  1.5866e-02,  1.7631e-02]],\n",
       "\n",
       "         [[ 4.2417e-02,  6.0915e-03,  2.2944e-02,  2.2698e-02,  2.5814e-02],\n",
       "          [ 2.4551e-02,  2.4943e-02,  1.8184e-02,  2.1891e-02,  2.1257e-02],\n",
       "          [ 1.9735e-02,  1.2001e-02,  3.0415e-02,  2.4112e-02,  1.4730e-02],\n",
       "          [ 2.3924e-02,  1.3521e-02,  3.4184e-02,  1.8035e-02,  1.2581e-02],\n",
       "          [ 1.7510e-02,  3.4775e-02,  1.3687e-02,  2.0474e-02,  2.6573e-03]],\n",
       "\n",
       "         [[ 2.6685e-02,  1.8910e-02,  2.1651e-02,  2.8881e-02,  3.2620e-02],\n",
       "          [ 1.8266e-02,  1.4356e-02,  3.3628e-02,  2.7000e-02,  1.3579e-02],\n",
       "          [ 2.3193e-02,  2.9371e-02,  3.2414e-02,  8.5850e-03,  2.2064e-02],\n",
       "          [ 1.9041e-02,  3.1319e-02,  1.5988e-02,  2.4296e-02,  2.7889e-02],\n",
       "          [ 3.1438e-02,  3.6398e-02,  1.5176e-02,  2.7152e-02,  2.9481e-02]],\n",
       "\n",
       "         [[ 8.8151e-03,  1.6467e-02,  1.8036e-02,  1.6010e-02,  1.1389e-02],\n",
       "          [ 1.4025e-02,  1.9210e-02,  1.8338e-02,  5.2499e-03,  1.4879e-02],\n",
       "          [ 1.7460e-02,  1.1658e-02,  9.6640e-03,  1.1243e-02,  3.4684e-03],\n",
       "          [ 1.9824e-02,  7.6052e-03,  2.1400e-03,  2.1144e-02,  6.0166e-03],\n",
       "          [ 1.0469e-02,  2.3198e-02,  1.3392e-02,  1.3595e-02,  1.1749e-02]],\n",
       "\n",
       "         [[-7.2661e-04,  1.5104e-02,  1.3138e-02,  1.2595e-02,  1.6390e-02],\n",
       "          [ 3.5034e-03,  2.6290e-02,  1.6485e-02, -6.8236e-03,  1.4704e-02],\n",
       "          [ 1.8887e-02,  9.8393e-03,  1.2138e-02, -2.5565e-03,  5.6813e-03],\n",
       "          [ 1.8092e-02,  3.9897e-03, -5.0712e-04,  2.9029e-02,  1.8486e-02],\n",
       "          [ 1.5481e-02,  2.9810e-02,  5.6534e-03,  2.5849e-02,  1.8794e-02]],\n",
       "\n",
       "         [[ 2.6149e-02,  6.7700e-03,  1.2630e-02,  2.2829e-02,  1.7403e-02],\n",
       "          [ 1.7269e-02,  2.2191e-02,  2.0350e-02,  1.7212e-02,  1.9621e-02],\n",
       "          [ 1.9938e-02,  2.2922e-02,  2.4591e-02,  1.2395e-02,  2.7462e-02],\n",
       "          [ 8.1074e-03,  1.3692e-02,  2.1986e-02,  1.9465e-02,  2.0572e-02],\n",
       "          [ 1.6990e-02,  1.5654e-02,  2.2078e-02,  2.4653e-02,  2.0900e-02]]],\n",
       "\n",
       "\n",
       "        [[[ 4.4427e-03,  8.2382e-04,  5.1936e-03, -2.5854e-03,  2.6795e-03],\n",
       "          [-2.8812e-03,  3.0539e-03,  2.6115e-03, -2.4950e-03, -1.1249e-05],\n",
       "          [ 8.4485e-04,  5.2027e-03,  2.1181e-03, -1.3534e-03,  3.9682e-03],\n",
       "          [ 3.3782e-03, -7.6942e-04, -3.2583e-03,  1.0719e-03, -1.4708e-04],\n",
       "          [-1.8515e-05,  3.3179e-03, -2.7440e-03, -3.1595e-04,  3.0492e-03]],\n",
       "\n",
       "         [[-1.0568e-04,  5.0319e-03,  3.1450e-03,  8.7663e-03, -9.2218e-04],\n",
       "          [ 3.1834e-03, -2.5437e-03,  8.7057e-03,  1.3884e-03,  3.0304e-03],\n",
       "          [-3.9300e-04,  1.0355e-02, -2.4170e-04,  8.5696e-03, -2.8117e-03],\n",
       "          [-3.0025e-04, -9.0692e-04,  5.0116e-03,  1.1502e-03,  9.0266e-03],\n",
       "          [ 2.5775e-03, -7.8243e-04,  4.2083e-03,  2.4230e-03,  9.0207e-03]],\n",
       "\n",
       "         [[ 3.5199e-03,  4.1328e-03,  7.6794e-03,  6.4538e-03, -4.2094e-03],\n",
       "          [-1.6570e-03,  2.2308e-03,  7.9356e-04,  1.8480e-03,  7.4182e-03],\n",
       "          [ 1.3045e-03,  1.1976e-02,  2.3905e-03,  4.4500e-04,  4.6316e-03],\n",
       "          [ 4.3326e-03,  5.5943e-03,  4.7232e-03, -6.9107e-03, -4.3592e-04],\n",
       "          [ 4.9835e-03,  4.1694e-03,  2.0750e-03,  5.5133e-03,  4.8482e-03]],\n",
       "\n",
       "         [[ 2.4051e-03,  3.4104e-03,  1.5234e-03,  3.7503e-03,  2.6788e-03],\n",
       "          [ 1.4678e-03,  9.7526e-04, -2.7420e-03,  7.3911e-03, -1.1723e-03],\n",
       "          [-8.0733e-04,  2.3115e-03,  3.9286e-03,  3.2420e-03,  4.7503e-03],\n",
       "          [ 2.4967e-03, -3.8888e-03, -5.6259e-04, -1.5490e-03, -1.1050e-03],\n",
       "          [-9.0146e-04, -1.3093e-03,  2.8718e-03, -2.5734e-03, -2.5857e-03]],\n",
       "\n",
       "         [[ 4.7540e-03,  1.1621e-02,  3.1939e-03,  1.2352e-03,  5.5449e-03],\n",
       "          [ 1.0100e-03,  3.7595e-03, -4.1545e-03,  4.3496e-03, -3.5505e-03],\n",
       "          [-1.2779e-03,  8.4197e-03,  7.2223e-03,  5.1780e-03,  4.0838e-03],\n",
       "          [ 6.9055e-03, -4.3179e-03,  1.6582e-03, -3.9846e-03, -2.7394e-03],\n",
       "          [ 2.8798e-03, -5.9368e-03,  3.2683e-03, -3.5387e-03, -3.4340e-03]],\n",
       "\n",
       "         [[ 5.3517e-03,  3.6956e-03,  7.1367e-04,  2.9052e-03,  4.2823e-03],\n",
       "          [ 3.4249e-04,  6.2591e-04,  3.0239e-03,  1.0096e-03,  5.2170e-03],\n",
       "          [ 1.6433e-03,  8.6461e-03, -4.1033e-03,  5.7889e-04,  3.3664e-03],\n",
       "          [ 6.4784e-03,  1.6918e-03,  3.6149e-03, -4.1348e-03,  3.0683e-03],\n",
       "          [-8.3633e-04,  1.4629e-03,  1.9746e-03,  4.6874e-03,  7.7096e-05]]],\n",
       "\n",
       "\n",
       "        [[[ 1.3159e-02,  3.0662e-03,  2.2818e-03, -2.1321e-04,  4.3189e-03],\n",
       "          [ 1.2158e-02, -7.3140e-03, -7.4432e-04, -1.3265e-02, -7.6851e-04],\n",
       "          [ 9.3213e-03, -2.8198e-03, -6.6637e-04, -4.4831e-03,  6.2057e-03],\n",
       "          [ 4.8873e-03, -1.6359e-03, -7.8366e-03,  9.8993e-03,  1.2920e-02],\n",
       "          [ 1.3579e-03, -1.4621e-03,  1.0409e-02, -9.9914e-04,  3.4049e-03]],\n",
       "\n",
       "         [[-6.6752e-04,  3.0760e-03, -8.3913e-04,  1.1303e-02,  9.1416e-04],\n",
       "          [-2.5150e-03,  1.2682e-02, -7.1055e-03,  2.3470e-02,  5.9528e-03],\n",
       "          [-1.3999e-02, -8.6040e-03,  2.3012e-03,  1.3403e-02,  3.8458e-03],\n",
       "          [-3.7383e-04, -6.0758e-03, -6.9440e-04,  1.6854e-02, -6.3770e-03],\n",
       "          [-5.0833e-03, -8.4761e-04,  9.6307e-03,  1.1920e-02,  5.7868e-03]],\n",
       "\n",
       "         [[ 9.0865e-04,  1.2256e-02,  1.4523e-02,  1.5025e-03,  7.5688e-07],\n",
       "          [ 4.0147e-03,  4.7152e-03,  3.2629e-03,  3.9942e-03, -3.3258e-03],\n",
       "          [ 8.7772e-03,  4.0322e-03,  7.8508e-03, -6.3079e-03,  1.3864e-02],\n",
       "          [ 1.1352e-02, -2.3259e-03,  5.2122e-03,  3.1590e-03,  8.9963e-03],\n",
       "          [ 1.4185e-02,  1.7749e-03,  1.1813e-02, -1.3027e-03,  1.9827e-02]],\n",
       "\n",
       "         [[ 1.8162e-03,  3.0782e-03, -2.5532e-03,  1.2967e-03,  2.8783e-03],\n",
       "          [ 2.6795e-03,  1.4886e-02, -3.6692e-03,  2.9260e-03, -7.2867e-03],\n",
       "          [ 9.7741e-03, -4.8015e-03, -4.1939e-03,  4.4066e-03, -2.8721e-04],\n",
       "          [ 1.2214e-02,  2.4356e-03, -4.4577e-03, -9.5886e-03, -2.8667e-03],\n",
       "          [-1.4908e-03, -7.6245e-03, -7.4896e-04,  2.3979e-03,  1.2871e-02]],\n",
       "\n",
       "         [[ 7.8003e-03,  7.1435e-03,  6.6214e-04, -6.8322e-03, -2.5083e-03],\n",
       "          [ 1.2513e-02,  1.9377e-02, -1.2337e-02, -1.8068e-02, -7.4576e-04],\n",
       "          [ 1.4802e-02,  8.2004e-03, -1.1629e-02,  7.5084e-03,  4.4299e-04],\n",
       "          [ 9.2353e-03,  9.4745e-03, -5.1496e-03, -1.4068e-02, -1.7814e-03],\n",
       "          [ 6.2591e-03,  3.0179e-03, -1.4979e-02,  2.3644e-03,  1.5682e-02]],\n",
       "\n",
       "         [[ 8.4305e-03,  5.1036e-04,  7.0853e-03,  4.1267e-03,  4.1126e-03],\n",
       "          [ 5.9780e-03,  1.8251e-03, -4.5906e-04,  6.7355e-03,  1.1598e-02],\n",
       "          [ 5.3818e-03,  5.9267e-03, -1.0326e-03,  1.2354e-02,  5.6841e-03],\n",
       "          [ 8.3960e-03,  8.5103e-03, -9.0439e-03,  9.6814e-03,  4.7309e-03],\n",
       "          [ 1.1869e-03,  1.1433e-02,  8.9810e-04,  2.6525e-03,  5.5068e-03]]],\n",
       "\n",
       "\n",
       "        ...,\n",
       "\n",
       "\n",
       "        [[[-1.5894e-03, -6.6196e-03, -4.8192e-03, -8.0799e-03, -1.8428e-03],\n",
       "          [-3.3864e-03, -9.7469e-03, -6.7111e-03, -1.3062e-02, -9.0131e-03],\n",
       "          [-9.6003e-03, -6.9749e-03, -1.0127e-02, -6.5455e-04, -6.6409e-03],\n",
       "          [-1.0709e-02, -2.0073e-03, -3.0587e-03, -2.2937e-03, -2.5453e-03],\n",
       "          [ 1.4638e-03, -1.0044e-02,  7.3649e-04, -3.9625e-03, -6.1085e-03]],\n",
       "\n",
       "         [[-4.8221e-03, -5.6667e-03, -1.1339e-02,  1.1038e-03, -1.0375e-02],\n",
       "          [-1.3225e-02, -6.5646e-03, -1.0357e-02, -7.1727e-04, -7.6392e-03],\n",
       "          [-1.1466e-02, -1.0432e-02, -2.1483e-03, -8.2176e-03, -4.4649e-03],\n",
       "          [-1.6189e-02, -1.2101e-02, -5.2245e-03, -6.5577e-04, -1.2592e-02],\n",
       "          [-9.7713e-03, -7.8710e-03, -6.1605e-03, -3.6901e-03, -1.0053e-02]],\n",
       "\n",
       "         [[-1.0661e-02, -7.6846e-03, -1.5731e-02, -4.3784e-03, -6.9103e-03],\n",
       "          [-6.2663e-03, -1.5114e-02, -5.3551e-03, -1.2557e-02, -8.0028e-03],\n",
       "          [-1.3910e-02, -9.9332e-03, -1.0403e-02, -8.9881e-03, -3.0867e-03],\n",
       "          [-4.4937e-03, -3.9787e-03, -1.0465e-02, -8.3336e-03, -5.0670e-03],\n",
       "          [-3.4101e-03, -4.5590e-03, -1.2291e-02, -2.2493e-03, -5.3925e-03]],\n",
       "\n",
       "         [[ 8.6484e-04,  1.5001e-04, -4.7089e-03, -1.4399e-03, -1.2216e-02],\n",
       "          [-3.6479e-03,  1.6786e-04, -6.2289e-03, -5.6564e-03, -3.1350e-03],\n",
       "          [-3.2505e-03, -1.2520e-02, -1.3121e-02, -1.1825e-02, -9.6288e-03],\n",
       "          [-3.0362e-03, -9.7390e-03, -7.5280e-03, -5.4006e-03, -3.2575e-03],\n",
       "          [-7.1189e-03, -5.5848e-03, -3.0271e-03, -3.8029e-03, -4.4738e-03]],\n",
       "\n",
       "         [[-6.7628e-03, -1.7967e-03, -9.7735e-03, -3.7135e-03, -4.4064e-03],\n",
       "          [-3.2170e-03, -2.1449e-04, -1.0336e-02, -7.1564e-03, -8.6010e-03],\n",
       "          [-1.9362e-03, -1.1733e-02, -1.2424e-02, -1.8105e-02, -2.8898e-03],\n",
       "          [ 6.0452e-04, -6.4697e-03, -1.3132e-02, -3.1750e-03, -4.8433e-03],\n",
       "          [-2.2395e-03, -5.2219e-04, -8.5608e-03, -4.5293e-03, -4.8989e-03]],\n",
       "\n",
       "         [[-8.8568e-03, -7.0902e-03, -5.1928e-03,  7.9028e-04, -1.5337e-03],\n",
       "          [-7.4035e-03, -4.8474e-03, -5.6048e-03, -6.6635e-03, -1.0766e-02],\n",
       "          [-7.3482e-03, -7.6910e-03, -1.3457e-02, -9.1394e-03, -3.4206e-03],\n",
       "          [-1.2628e-02, -6.5518e-03, -1.0717e-02, -3.5199e-03, -4.4568e-03],\n",
       "          [-3.0977e-03, -1.0541e-02, -3.7725e-03, -1.1149e-03, -1.7667e-03]]],\n",
       "\n",
       "\n",
       "        [[[ 2.0705e-04,  3.1132e-03, -4.8177e-03, -1.2306e-03,  4.8449e-03],\n",
       "          [ 9.0032e-04,  3.4458e-03,  3.0901e-03, -3.9774e-03, -3.8219e-03],\n",
       "          [-1.3254e-03,  3.8562e-03,  4.1985e-03,  1.0114e-03, -3.5960e-03],\n",
       "          [-6.8790e-03, -3.1702e-03,  5.2137e-03, -4.8716e-03, -3.5164e-03],\n",
       "          [-1.7515e-04,  4.5174e-04, -1.9654e-04,  4.0019e-03,  6.9532e-03]],\n",
       "\n",
       "         [[-9.9827e-04, -9.2339e-03,  7.7115e-03, -9.0621e-03, -2.0933e-03],\n",
       "          [-7.8582e-03, -3.2111e-03, -9.0585e-04, -3.2663e-03,  4.2169e-03],\n",
       "          [ 4.7828e-03, -1.5958e-03,  4.4198e-03, -3.5189e-04, -3.1899e-04],\n",
       "          [-1.0778e-02,  1.5427e-04,  1.1310e-03, -1.4360e-03, -7.2089e-04],\n",
       "          [-1.7721e-03, -1.8430e-03,  3.9836e-03, -7.8859e-03,  2.4925e-04]],\n",
       "\n",
       "         [[ 2.1248e-03, -4.1598e-04, -1.3736e-03, -1.9652e-03,  9.2147e-03],\n",
       "          [-6.1003e-03,  8.4163e-04, -1.4609e-03,  2.3450e-03,  3.3662e-03],\n",
       "          [-2.7012e-04,  2.8409e-03, -2.7337e-03, -4.0514e-03, -3.7226e-03],\n",
       "          [ 1.5008e-03,  3.5965e-03, -9.6364e-04, -6.5776e-03, -2.8264e-04],\n",
       "          [ 1.3334e-03, -4.1396e-03,  1.7542e-03,  2.6681e-03,  8.6077e-03]],\n",
       "\n",
       "         [[ 3.0417e-03,  7.8264e-04,  7.3896e-03,  5.1590e-03,  7.2031e-04],\n",
       "          [-9.1034e-05, -1.5591e-03,  2.7006e-03, -1.8532e-03,  2.7702e-03],\n",
       "          [ 3.4010e-03,  9.4061e-03, -1.7838e-03,  1.8278e-03,  1.7690e-03],\n",
       "          [ 2.4546e-03,  7.2390e-04, -1.6445e-03, -2.5577e-03, -2.3389e-03],\n",
       "          [ 1.9920e-03,  2.0132e-03,  1.9410e-03,  1.8010e-03,  4.8826e-03]],\n",
       "\n",
       "         [[ 4.8869e-03, -2.2157e-03,  6.2798e-03,  7.9536e-03,  7.3834e-03],\n",
       "          [ 1.4879e-03, -4.7690e-03, -1.1292e-03, -1.7439e-03, -1.3296e-03],\n",
       "          [ 5.5091e-03,  8.3349e-03, -5.8788e-03,  3.9426e-03,  3.7421e-03],\n",
       "          [ 2.8673e-03,  2.9378e-03, -6.9654e-03, -2.5391e-03, -4.6931e-04],\n",
       "          [ 2.7866e-03, -2.8563e-03, -1.0225e-03,  7.6802e-03,  4.2131e-03]],\n",
       "\n",
       "         [[-2.9560e-03, -3.0031e-03,  5.2519e-06,  2.9179e-03, -1.1341e-04],\n",
       "          [-5.3900e-03,  6.0222e-03,  5.4238e-04,  3.0208e-03, -3.9637e-03],\n",
       "          [ 6.8089e-03, -5.5847e-03,  3.1947e-03,  5.3980e-03, -4.8756e-03],\n",
       "          [-2.2651e-03,  4.1654e-03,  2.5278e-03,  1.4490e-03, -2.6342e-04],\n",
       "          [-7.0182e-04, -2.7935e-03,  2.4935e-03,  1.3169e-03,  5.5537e-03]]],\n",
       "\n",
       "\n",
       "        [[[-7.9027e-03, -1.4352e-02, -1.3083e-02, -1.5695e-02, -8.9298e-03],\n",
       "          [-1.5732e-02, -1.2791e-02, -6.5170e-03, -2.1254e-03, -8.7123e-03],\n",
       "          [-1.4611e-02, -1.6587e-02, -5.6133e-03, -1.5429e-02, -7.8940e-03],\n",
       "          [-8.1569e-03, -9.0586e-03, -1.1546e-02, -1.2151e-02,  2.2316e-05],\n",
       "          [-1.7494e-02, -2.2189e-03, -1.4827e-02, -1.2110e-02, -7.2704e-03]],\n",
       "\n",
       "         [[-3.5851e-02, -6.6443e-03, -1.9151e-02, -1.8522e-02, -1.3828e-02],\n",
       "          [-1.9527e-02, -2.0949e-02, -9.1580e-03, -1.4406e-02,  1.4095e-03],\n",
       "          [-1.5178e-02, -2.9800e-02, -1.5223e-02, -6.2523e-03, -1.1455e-02],\n",
       "          [-2.0186e-02, -2.4082e-02, -1.6036e-02, -2.0271e-02, -8.8581e-03],\n",
       "          [-1.1135e-02, -2.1915e-02, -1.7360e-02, -1.0676e-02, -2.6079e-03]],\n",
       "\n",
       "         [[-2.0909e-02, -2.5933e-02, -1.9931e-02, -1.3434e-02, -1.2361e-03],\n",
       "          [-1.4763e-02, -3.0056e-02, -1.6539e-02, -1.2359e-02, -1.9874e-02],\n",
       "          [-2.5405e-02, -1.9990e-02, -1.9574e-02, -1.5732e-02, -1.3748e-02],\n",
       "          [-2.3447e-02, -1.5895e-02, -5.5720e-03, -1.8600e-02, -1.4889e-02],\n",
       "          [-3.1276e-02, -1.3894e-02, -2.0492e-02, -2.0424e-02, -1.6017e-02]],\n",
       "\n",
       "         [[-2.1772e-02, -1.0710e-02, -2.6194e-03, -1.0065e-02, -1.1860e-02],\n",
       "          [-3.7082e-03, -1.3871e-02, -1.9779e-02, -1.3497e-02, -8.0536e-03],\n",
       "          [-5.8109e-03, -2.7950e-03, -9.1650e-03, -1.0757e-02, -2.6591e-03],\n",
       "          [-8.4481e-03, -1.6609e-02, -1.1957e-02, -1.1461e-02, -7.4615e-03],\n",
       "          [-9.6716e-03, -1.8123e-02, -9.6726e-03, -1.3178e-02, -4.1500e-03]],\n",
       "\n",
       "         [[-1.4715e-02, -1.4541e-02, -7.2036e-03, -1.2587e-02, -1.1152e-02],\n",
       "          [-2.0156e-02, -1.0623e-02, -1.1687e-02, -2.3180e-02, -1.4400e-02],\n",
       "          [-1.9505e-02, -5.4163e-03, -1.5099e-02, -1.2346e-02, -4.8230e-03],\n",
       "          [-1.4174e-02, -1.1114e-02, -2.4000e-04, -1.1056e-02, -1.4775e-02],\n",
       "          [-1.5524e-02, -1.8621e-02, -1.2309e-02, -1.4425e-02, -1.1514e-02]],\n",
       "\n",
       "         [[-1.5833e-02, -1.5820e-02, -2.5956e-02, -1.0988e-02, -1.2771e-02],\n",
       "          [-1.6447e-02, -9.8473e-03, -1.4126e-02, -1.0090e-02, -2.0134e-02],\n",
       "          [-8.5683e-03, -3.2946e-03, -2.5941e-02, -1.5373e-02, -1.5305e-02],\n",
       "          [-2.1290e-02,  1.3414e-03, -3.7850e-03, -2.0477e-02, -8.1376e-03],\n",
       "          [-1.4598e-02, -1.3859e-02, -1.9905e-02, -1.4499e-02, -1.5196e-02]]]])"
      ]
     },
     "execution_count": 193,
     "metadata": {},
     "output_type": "execute_result"
    }
   ],
   "source": [
    "net.conv2.weight.grad"
   ]
  },
  {
   "cell_type": "code",
   "execution_count": null,
   "metadata": {
    "collapsed": true
   },
   "outputs": [],
   "source": []
  }
 ],
 "metadata": {
  "anaconda-cloud": {},
  "kernelspec": {
   "display_name": "Python [conda env:Anaconda3]",
   "language": "python",
   "name": "conda-env-Anaconda3-py"
  },
  "language_info": {
   "codemirror_mode": {
    "name": "ipython",
    "version": 3
   },
   "file_extension": ".py",
   "mimetype": "text/x-python",
   "name": "python",
   "nbconvert_exporter": "python",
   "pygments_lexer": "ipython3",
   "version": "3.5.2"
  }
 },
 "nbformat": 4,
 "nbformat_minor": 1
}
