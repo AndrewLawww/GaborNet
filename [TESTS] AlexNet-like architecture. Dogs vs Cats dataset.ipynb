{
 "cells": [
  {
   "cell_type": "code",
   "execution_count": null,
   "metadata": {
    "collapsed": true
   },
   "outputs": [],
   "source": [
    "import torch.nn as nn\n",
    "import torch\n",
    "import os\n",
    "import random\n",
    "from torch.autograd import Variable\n",
    "import torch.nn as nn\n",
    "import torch.nn.functional as F\n",
    "import torch.optim as optim\n",
    "import torch\n",
    "import numpy as np\n",
    "import cv2\n",
    "import matplotlib.pyplot as plt\n",
    "from numpy.random import rand, randn\n",
    "import torchvision.datasets as dset\n",
    "import torchvision.transforms as transforms\n",
    "import matplotlib.pyplot as plt\n",
    "from DogsCatsDataloader import DogsCatsDataset\n",
    "from torchvision import transforms, utils\n",
    "from torch.utils.data import DataLoader\n",
    "from GaborLayers import GaborConv2d"
   ]
  },
  {
   "cell_type": "code",
   "execution_count": null,
   "metadata": {
    "collapsed": false
   },
   "outputs": [],
   "source": [
    "transform = transforms.Compose([transforms.ToPILImage(), transforms.Resize((256,256)), transforms.ToTensor(), transforms.Normalize((0.5, 0.5, 0.5), (0.5, 0.5, 0.5))])"
   ]
  },
  {
   "cell_type": "code",
   "execution_count": null,
   "metadata": {
    "collapsed": false
   },
   "outputs": [],
   "source": [
    "train_set = DogsCatsDataset(root_dir='D:\\\\Dogs vs Cats\\\\train', transform=transform)\n",
    "test_set = DogsCatsDataset(root_dir='D:\\\\Dogs vs Cats\\\\validation', transform=transform)"
   ]
  },
  {
   "cell_type": "code",
   "execution_count": null,
   "metadata": {
    "collapsed": true
   },
   "outputs": [],
   "source": [
    "train = DataLoader(train_set, batch_size=64, shuffle=True, num_workers=4)\n",
    "test = DataLoader(test_set, batch_size=64, shuffle=True, num_workers=4)"
   ]
  },
  {
   "cell_type": "code",
   "execution_count": null,
   "metadata": {
    "collapsed": false
   },
   "outputs": [],
   "source": [
    "len(train)"
   ]
  },
  {
   "cell_type": "code",
   "execution_count": null,
   "metadata": {
    "collapsed": false
   },
   "outputs": [],
   "source": [
    "one_layer_gnet_acc_train = []\n",
    "one_layer_gnet_loss_train = []\n",
    "one_layer_gnet_acc_test = []\n",
    "one_layer_gnet_loss_test = []\n",
    "\n",
    "two_layer_gnet_acc_train = []\n",
    "two_layer_gnet_loss_train = []\n",
    "two_layer_gnet_acc_test = []\n",
    "two_layer_gnet_loss_test = []\n",
    "\n",
    "convnet_acc_train = []\n",
    "convnet_loss_train = []\n",
    "convnet_acc_test = []\n",
    "convnet_loss_test = []\n",
    "\n",
    "one_layer_cgnet_acc_train = []\n",
    "one_layer_cgnet_loss_train = []\n",
    "one_layer_cgnet_acc_test = []\n",
    "one_layer_cgnet_loss_test = []\n",
    "\n",
    "two_layer_cgnet_acc_train = []\n",
    "two_layer_cgnet_loss_train = []\n",
    "two_layer_cgnet_acc_test = []\n",
    "two_layer_cgnet_loss_test = []"
   ]
  },
  {
   "cell_type": "code",
   "execution_count": null,
   "metadata": {
    "collapsed": false
   },
   "outputs": [],
   "source": [
    "class GaborNet_one_layer(nn.Module):\n",
    "    def __init__(self):\n",
    "        super(GaborNet_one_layer, self).__init__()\n",
    "        self.g1 = GaborConv2d(3, 32, kernel_size=(15,15), stride=1)\n",
    "        self.c1 = nn.Conv2d(32, 64, kernel_size=(3,3), stride=1)\n",
    "        self.c2 = nn.Conv2d(64, 128, kernel_size=(3,3), stride=1)\n",
    "        self.c3 = nn.Conv2d(128, 128, kernel_size=(3,3), stride=1)\n",
    "        self.c4 = nn.Conv2d(128, 128, kernel_size=(3,3), stride=1)\n",
    "        self.fc1 = nn.Linear(128*5*5, 128)\n",
    "        self.fc2 = nn.Linear(128, 128)\n",
    "        self.fc3 = nn.Linear(128,2)\n",
    "\n",
    "    def forward(self, x):\n",
    "        x = F.max_pool2d(F.relu(self.g1(x)), kernel_size=2)\n",
    "        x = nn.Dropout2d()(x)\n",
    "        x = F.max_pool2d(F.relu(self.c1(x)), kernel_size=2)\n",
    "        x = nn.Dropout2d()(x)\n",
    "        x = F.max_pool2d(F.relu(self.c2(x)), kernel_size=2)\n",
    "        x = nn.Dropout2d()(x)\n",
    "        x = F.max_pool2d(F.relu(self.c3(x)), kernel_size=2)\n",
    "        x = nn.Dropout2d()(x)\n",
    "        x = F.max_pool2d(F.relu(self.c4(x)), kernel_size=2)\n",
    "        x = nn.Dropout2d()(x)\n",
    "        x = x.view(-1, 128*5*5)\n",
    "        x = F.relu(self.fc1(x))\n",
    "        x = nn.Dropout()(x)\n",
    "        x = F.relu(self.fc2(x))\n",
    "        x = nn.Dropout()(x)\n",
    "        x = self.fc3(x)\n",
    "        return x\n",
    "\n",
    "def weights_init(m):\n",
    "    classname = m.__class__.__name__\n",
    "    if classname.find('Conv') != -1:\n",
    "        nn.init.xavier_uniform_(m.weight.data)"
   ]
  },
  {
   "cell_type": "code",
   "execution_count": null,
   "metadata": {
    "collapsed": false
   },
   "outputs": [],
   "source": [
    "device = torch.device(\"cuda:0\" if torch.cuda.is_available() else \"cpu\")\n",
    "print(device)\n",
    "net = GaborNet_one_layer().to(device)\n",
    "net.apply(weights_init)\n",
    "print(net)\n",
    "criterion = nn.CrossEntropyLoss()\n",
    "optimizer = optim.Adam(net.parameters())"
   ]
  },
  {
   "cell_type": "code",
   "execution_count": null,
   "metadata": {
    "collapsed": false
   },
   "outputs": [],
   "source": [
    "for epoch in range(100):\n",
    "\n",
    "    running_loss = 0.0\n",
    "    correct = 0\n",
    "    net.train()\n",
    "    for i, data in enumerate(train, 0):\n",
    "        # get the inputs\n",
    "        inputs, labels = data['image'], data['target']\n",
    "\n",
    "        # zero the parameter gradients\n",
    "        optimizer.zero_grad()\n",
    "\n",
    "        # forward + backward + optimize\n",
    "        outputs = net(inputs.to(device))\n",
    "        loss = criterion(outputs, labels.to(device))\n",
    "        loss.backward()\n",
    "        optimizer.step()\n",
    "        pred = outputs.max(1, keepdim=True)[1].to('cpu')\n",
    "        correct += pred.eq(labels.view_as(pred)).sum().item()\n",
    "\n",
    "        # print statistics\n",
    "        running_loss += loss.item()\n",
    "    print('[%d] train_acc: %.3f train_loss: %.3f' %(epoch + 1, correct/len(train_set), running_loss/len(train_set))) \n",
    "    one_layer_gnet_acc_train.append(correct/len(train_set))\n",
    "    one_layer_gnet_loss_train.append(running_loss/len(train_set)) \n",
    "    \n",
    "    running_loss = 0.0\n",
    "    correct = 0\n",
    "    with torch.no_grad():\n",
    "        net.eval()\n",
    "        for i, data in enumerate(test, 0):\n",
    "            # get the inputs\n",
    "            inputs, labels = data['image'], data['target']\n",
    "\n",
    "            # forward + backward + optimize\n",
    "            outputs = net(inputs.to(device))\n",
    "            loss = criterion(outputs, labels.to(device))\n",
    "\n",
    "            pred = outputs.max(1, keepdim=True)[1].to('cpu')\n",
    "            correct += pred.eq(labels.view_as(pred)).sum().item()\n",
    "            running_loss += loss.item()\n",
    "    print('[%d] test_acc: %.3f test_loss: %.3f' %(epoch + 1, correct/len(test_set), running_loss/len(test_set)))\n",
    "    one_layer_gnet_acc_test.append(correct/len(test_set))\n",
    "    one_layer_gnet_loss_test.append(running_loss/len(test_set))      \n",
    "\n",
    "print('Finished Training')\n",
    "\n",
    "np.save('one_layer_gnet_acc_train.npy', one_layer_gnet_acc_train)\n",
    "np.save('one_layer_gnet_loss_train.npy', one_layer_gnet_loss_train)\n",
    "np.save('one_layer_gnet_acc_test.npy', one_layer_gnet_acc_test)\n",
    "np.save('one_layer_gnet_loss_test.npy', one_layer_gnet_loss_test)\n",
    "\n",
    "\n",
    "'''for epoch in range(100):  # loop over the dataset multiple times\n",
    "    running_loss = 0.0\n",
    "    for i in range(int(EMONEW.lenght()/BATCH_SIZE)):\n",
    "        net.train()\n",
    "        # get the inputs\n",
    "        inputs, labels = EMONEW.get_batch(BATCH_SIZE)\n",
    "        inputs = torch.Tensor(inputs).to(device)/255\n",
    "        labels = torch.Tensor(labels).max(1)[1].type(torch.LongTensor).to(device)\n",
    "        # zero the parameter gradients\n",
    "        optimizer.zero_grad()\n",
    "\n",
    "        # forward + backward + optimize\n",
    "        outputs = net(inputs)\n",
    "        loss = criterion(outputs, labels)\n",
    "        loss.backward()\n",
    "\n",
    "        # print statistics\n",
    "        running_loss += loss.item()\n",
    "        if i%10 == 9:\n",
    "            print('[%d] loss: %.3f' %(epoch + 1, running_loss / (10*BATCH_SIZE)))\n",
    "            running_loss = 0.0\n",
    "            \n",
    "        optimizer.step()\n",
    "        \n",
    "    test_loss = 0\n",
    "    correct = 0\n",
    "    with torch.no_grad():\n",
    "        for i in range(int(EMONEW.lenght(False)/BATCH_SIZE)):\n",
    "            inputs, labels = EMONEW.get_batch(BATCH_SIZE, False)\n",
    "            inputs = torch.Tensor(inputs).to(device)/255\n",
    "            outputs = net(inputs)\n",
    "            labels = torch.Tensor(labels).max(1)[1].type(torch.LongTensor).to(device)\n",
    "            test_loss += criterion(outputs, labels) # sum up batch loss\n",
    "            pred = outputs.max(1, keepdim=True)[1] # get the index of the max log-probability\n",
    "            correct += pred.eq(labels.view_as(pred)).sum().item()\n",
    "\n",
    "    test_loss /= EMONEW.lenght(False)\n",
    "    print('\\n[{}] Test set: Average loss: {:.4f}, Accuracy: {}/{} ({:.0f}%)\\n'.format(epoch+1,\n",
    "        test_loss, correct, EMONEW.lenght(False),\n",
    "        100. * correct / EMONEW.lenght(False)))\n",
    "    S_gabor_test_acc.append(correct / EMONEW.lenght(False))\n",
    "print('Finished Training')'''"
   ]
  },
  {
   "cell_type": "code",
   "execution_count": null,
   "metadata": {
    "collapsed": false
   },
   "outputs": [],
   "source": [
    "class convNet(nn.Module):\n",
    "    def __init__(self):\n",
    "        super(convNet, self).__init__()\n",
    "        self.c0 = nn.Conv2d(3, 32, kernel_size=(5,5), stride=1)\n",
    "        self.c1 = nn.Conv2d(32, 64, kernel_size=(5,5), stride=1)\n",
    "        self.c2 = nn.Conv2d(64, 128, kernel_size=(3,3), stride=1)\n",
    "        self.c3 = nn.Conv2d(128, 128, kernel_size=(3,3), stride=1)\n",
    "        self.c4 = nn.Conv2d(128, 128, kernel_size=(3,3), stride=1)\n",
    "        self.fc1 = nn.Linear(128*5*5, 128)\n",
    "        self.fc2 = nn.Linear(128, 128)\n",
    "        self.fc3 = nn.Linear(128,2)\n",
    "\n",
    "    def forward(self, x):\n",
    "        x = F.max_pool2d(F.relu(self.c0(x)), kernel_size=2)\n",
    "        x = nn.Dropout2d()(x)\n",
    "        x = F.max_pool2d(F.relu(self.c1(x)), kernel_size=2)\n",
    "        x = nn.Dropout2d()(x)\n",
    "        x = F.max_pool2d(F.relu(self.c2(x)), kernel_size=2)\n",
    "        x = nn.Dropout2d()(x)\n",
    "        x = F.max_pool2d(F.relu(self.c3(x)), kernel_size=2)\n",
    "        x = nn.Dropout2d()(x)\n",
    "        x = F.max_pool2d(F.relu(self.c4(x)), kernel_size=2)\n",
    "        x = nn.Dropout2d()(x)\n",
    "        x = x.view(-1, 128*5*5)\n",
    "        x = F.relu(self.fc1(x))\n",
    "        x = nn.Dropout()(x)\n",
    "        x = F.relu(self.fc2(x))\n",
    "        x = nn.Dropout()(x)\n",
    "        x = self.fc3(x)\n",
    "        return x"
   ]
  },
  {
   "cell_type": "code",
   "execution_count": null,
   "metadata": {
    "collapsed": false
   },
   "outputs": [],
   "source": [
    "device = torch.device(\"cuda:0\" if torch.cuda.is_available() else \"cpu\")\n",
    "print(device)\n",
    "net = convNet().to(device)\n",
    "net.apply(weights_init)\n",
    "print(net)\n",
    "criterion = nn.CrossEntropyLoss()\n",
    "optimizer = optim.Adam(net.parameters())"
   ]
  },
  {
   "cell_type": "code",
   "execution_count": null,
   "metadata": {
    "collapsed": false
   },
   "outputs": [],
   "source": [
    "for epoch in range(100):\n",
    "\n",
    "    running_loss = 0.0\n",
    "    correct = 0\n",
    "    net.train()\n",
    "    for i, data in enumerate(train, 0):\n",
    "        # get the inputs\n",
    "        inputs, labels = data['image'], data['target']\n",
    "\n",
    "        # zero the parameter gradients\n",
    "        optimizer.zero_grad()\n",
    "\n",
    "        # forward + backward + optimize\n",
    "        outputs = net(inputs.to(device))\n",
    "        loss = criterion(outputs, labels.to(device))\n",
    "        loss.backward()\n",
    "        optimizer.step()\n",
    "        pred = outputs.max(1, keepdim=True)[1].to('cpu')\n",
    "        correct += pred.eq(labels.view_as(pred)).sum().item()\n",
    "\n",
    "        # print statistics\n",
    "        running_loss += loss.item()\n",
    "    print('[%d] train_acc: %.3f train_loss: %.3f' %(epoch + 1, correct/len(train_set), running_loss/len(train_set))) \n",
    "    convnet_acc_train.append(correct/len(train_set))\n",
    "    convnet_loss_train.append(running_loss/len(train_set)) \n",
    "    \n",
    "    running_loss = 0.0\n",
    "    correct = 0\n",
    "    with torch.no_grad():\n",
    "        net.eval()\n",
    "        for i, data in enumerate(test, 0):\n",
    "            # get the inputs\n",
    "            inputs, labels = data['image'], data['target']\n",
    "\n",
    "            # forward + backward + optimize\n",
    "            outputs = net(inputs.to(device))\n",
    "            loss = criterion(outputs, labels.to(device))\n",
    "\n",
    "            pred = outputs.max(1, keepdim=True)[1].to('cpu')\n",
    "            correct += pred.eq(labels.view_as(pred)).sum().item()\n",
    "            running_loss += loss.item()\n",
    "    print('[%d] test_acc: %.3f test_loss: %.3f' %(epoch + 1, correct/len(test_set), running_loss/len(test_set)))\n",
    "    convnet_acc_test.append(correct/len(test_set))\n",
    "    convnet_loss_test.append(running_loss/len(test_set))      \n",
    "\n",
    "print('Finished Training')\n",
    "\n",
    "np.save('convnet_acc_train.npy', convnet_acc_train)\n",
    "np.save('convnet_loss_train.npy', convnet_loss_train)\n",
    "np.save('convnet_acc_test.npy', convnet_acc_test)\n",
    "np.save('convnet_loss_test.npy', convnet_loss_test)"
   ]
  },
  {
   "cell_type": "code",
   "execution_count": null,
   "metadata": {
    "collapsed": false
   },
   "outputs": [],
   "source": [
    "one_layer_gnet_acc_train = np.load('one_layer_gnet_acc_train.npy')"
   ]
  },
  {
   "cell_type": "code",
   "execution_count": null,
   "metadata": {
    "collapsed": true
   },
   "outputs": [],
   "source": [
    "convnet_acc_train = np.load('convnet_acc_train.npy')\n",
    "convnet_acc_test = np.load('convnet_acc_test.npy')"
   ]
  },
  {
   "cell_type": "code",
   "execution_count": null,
   "metadata": {
    "collapsed": false
   },
   "outputs": [],
   "source": [
    "plt.plot(convnet_acc_test, label = 'conv')\n",
    "plt.plot(one_layer_gnet_acc_test, label = 'Gnet')\n",
    "plt.legend(loc = 0)\n",
    "plt.title('test accuracy')\n",
    "plt.show()\n",
    "plt.plot(convnet_acc_train, label = 'conv')\n",
    "plt.plot(one_layer_gnet_acc_train, label = 'Gnet')\n",
    "plt.legend(loc = 0)\n",
    "plt.title('train accuracy')\n",
    "plt.show()"
   ]
  },
  {
   "cell_type": "code",
   "execution_count": null,
   "metadata": {
    "collapsed": true
   },
   "outputs": [],
   "source": [
    "class GaborNet_two_layer(nn.Module):\n",
    "    def __init__(self):\n",
    "        super(GaborNet_two_layer, self).__init__()\n",
    "        self.g1 = GaborConv2d(3, 32, kernel_size=(15,15), stride=1)\n",
    "        self.g2 = GaborConv2d(32, 64, kernel_size=(15,15), stride=1)\n",
    "        self.c2 = nn.Conv2d(64, 128, kernel_size=(3,3), stride=1)\n",
    "        self.c3 = nn.Conv2d(128, 128, kernel_size=(3,3), stride=1)\n",
    "        self.c4 = nn.Conv2d(128, 128, kernel_size=(3,3), stride=1)\n",
    "        self.fc1 = nn.Linear(128*4*4, 128)\n",
    "        self.fc2 = nn.Linear(128, 128)\n",
    "        self.fc3 = nn.Linear(128,2)\n",
    "\n",
    "    def forward(self, x):\n",
    "        x = F.max_pool2d(F.relu(self.g1(x)), kernel_size=2)\n",
    "        x = nn.Dropout2d()(x)\n",
    "        x = F.max_pool2d(F.relu(self.g2(x)), kernel_size=2)\n",
    "        x = nn.Dropout2d()(x)\n",
    "        x = F.max_pool2d(F.relu(self.c2(x)), kernel_size=2)\n",
    "        x = nn.Dropout2d()(x)\n",
    "        x = F.max_pool2d(F.relu(self.c3(x)), kernel_size=2)\n",
    "        x = nn.Dropout2d()(x)\n",
    "        x = F.max_pool2d(F.relu(self.c4(x)), kernel_size=2)\n",
    "        x = nn.Dropout2d()(x)\n",
    "        print(x.shape)\n",
    "        x = x.view(-1, 128*4*4)\n",
    "        x = F.relu(self.fc1(x))\n",
    "        x = nn.Dropout()(x)\n",
    "        x = F.relu(self.fc2(x))\n",
    "        x = nn.Dropout()(x)\n",
    "        x = self.fc3(x)\n",
    "        return x"
   ]
  },
  {
   "cell_type": "code",
   "execution_count": null,
   "metadata": {
    "collapsed": false
   },
   "outputs": [],
   "source": [
    "device = torch.device(\"cuda:0\" if torch.cuda.is_available() else \"cpu\")\n",
    "print(device)\n",
    "net = GaborNet_two_layer().to(device)\n",
    "net.apply(weights_init)\n",
    "print(net)\n",
    "criterion = nn.CrossEntropyLoss()\n",
    "optimizer = optim.Adam(net.parameters())"
   ]
  },
  {
   "cell_type": "code",
   "execution_count": null,
   "metadata": {
    "collapsed": false
   },
   "outputs": [],
   "source": [
    "net(torch.normal(torch.Tensor(1,3,256,256)).to(device))"
   ]
  },
  {
   "cell_type": "code",
   "execution_count": null,
   "metadata": {
    "collapsed": true
   },
   "outputs": [],
   "source": []
  }
 ],
 "metadata": {
  "anaconda-cloud": {},
  "kernelspec": {
   "display_name": "Python [conda env:Anaconda3]",
   "language": "python",
   "name": "conda-env-Anaconda3-py"
  },
  "language_info": {
   "codemirror_mode": {
    "name": "ipython",
    "version": 3
   },
   "file_extension": ".py",
   "mimetype": "text/x-python",
   "name": "python",
   "nbconvert_exporter": "python",
   "pygments_lexer": "ipython3",
   "version": "3.5.2"
  }
 },
 "nbformat": 4,
 "nbformat_minor": 1
}
