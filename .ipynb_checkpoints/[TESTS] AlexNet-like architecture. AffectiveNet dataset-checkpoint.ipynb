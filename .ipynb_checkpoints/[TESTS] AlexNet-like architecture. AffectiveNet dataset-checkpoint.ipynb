{
 "cells": [
  {
   "cell_type": "code",
   "execution_count": 1,
   "metadata": {
    "collapsed": false
   },
   "outputs": [],
   "source": [
    "import torch.nn as nn\n",
    "import torch\n",
    "import os\n",
    "import random\n",
    "from torch.autograd import Variable\n",
    "import torch.nn as nn\n",
    "import torch.nn.functional as F\n",
    "import torch.optim as optim\n",
    "import torch\n",
    "import numpy as np\n",
    "import cv2\n",
    "import matplotlib.pyplot as plt\n",
    "from numpy.random import rand, randn\n",
    "import torchvision.datasets as dset\n",
    "import torchvision.transforms as transforms\n",
    "import matplotlib.pyplot as plt\n",
    "from AffectivNetDataloader import AffectivNetDataset\n",
    "from torchvision import transforms, utils\n",
    "from torch.utils.data import DataLoader\n",
    "from GaborLayers import GaborConv2d\n",
    "from skimage import io"
   ]
  },
  {
   "cell_type": "code",
   "execution_count": 2,
   "metadata": {
    "collapsed": true
   },
   "outputs": [],
   "source": [
    "transform = transforms.Compose([transforms.ToPILImage(), transforms.Resize((256,256)), transforms.ToTensor(), transforms.Normalize((0.5, 0.5, 0.5), (0.5, 0.5, 0.5))])"
   ]
  },
  {
   "cell_type": "code",
   "execution_count": 3,
   "metadata": {
    "collapsed": true
   },
   "outputs": [],
   "source": [
    "train_set = AffectivNetDataset(root_dir='C:\\\\Projects\\\\AffectivNet', csv_file = 'C:\\\\Projects\\\\AffectivNet\\\\clearedTraining.csv', transform=transform)\n",
    "test_set = AffectivNetDataset(root_dir='C:\\\\Projects\\\\AffectivNet', csv_file = 'C:\\\\Projects\\\\AffectivNet\\\\clearedValidation.csv', transform=transform)"
   ]
  },
  {
   "cell_type": "code",
   "execution_count": null,
   "metadata": {
    "collapsed": false
   },
   "outputs": [],
   "source": []
  },
  {
   "cell_type": "code",
   "execution_count": 4,
   "metadata": {
    "collapsed": false
   },
   "outputs": [],
   "source": [
    "train = DataLoader(train_set, batch_size=64, shuffle=True, num_workers=4)\n",
    "test = DataLoader(test_set, batch_size=64, shuffle=True, num_workers=4)"
   ]
  },
  {
   "cell_type": "code",
   "execution_count": 5,
   "metadata": {
    "collapsed": false
   },
   "outputs": [
    {
     "data": {
      "text/plain": [
       "2248"
      ]
     },
     "execution_count": 5,
     "metadata": {},
     "output_type": "execute_result"
    }
   ],
   "source": [
    "len(train)"
   ]
  },
  {
   "cell_type": "code",
   "execution_count": null,
   "metadata": {
    "collapsed": true
   },
   "outputs": [],
   "source": [
    "one_layer_gnet_acc_train = []\n",
    "one_layer_gnet_loss_train = []\n",
    "one_layer_gnet_acc_test = []\n",
    "one_layer_gnet_loss_test = []\n",
    "\n",
    "two_layer_gnet_acc_train = []\n",
    "two_layer_gnet_loss_train = []\n",
    "two_layer_gnet_acc_test = []\n",
    "two_layer_gnet_loss_test = []\n",
    "\n",
    "convnet_acc_train = []\n",
    "convnet_loss_train = []\n",
    "convnet_acc_test = []\n",
    "convnet_loss_test = []\n",
    "\n",
    "one_layer_cgnet_acc_train = []\n",
    "one_layer_cgnet_loss_train = []\n",
    "one_layer_cgnet_acc_test = []\n",
    "one_layer_cgnet_loss_test = []\n",
    "\n",
    "two_layer_cgnet_acc_train = []\n",
    "two_layer_cgnet_loss_train = []\n",
    "two_layer_cgnet_acc_test = []\n",
    "two_layer_cgnet_loss_test = []"
   ]
  },
  {
   "cell_type": "code",
   "execution_count": 6,
   "metadata": {
    "collapsed": true
   },
   "outputs": [],
   "source": [
    "class GaborNet_one_layer(nn.Module):\n",
    "    def __init__(self):\n",
    "        super(GaborNet_one_layer, self).__init__()\n",
    "        self.g1 = GaborConv2d(3, 32, kernel_size=(15,15), stride=1)\n",
    "        self.c1 = nn.Conv2d(32, 64, kernel_size=(3,3), padding=3, stride=1)\n",
    "        self.c2 = nn.Conv2d(64, 128, kernel_size=(3,3), padding=3, stride=1)\n",
    "        self.c3 = nn.Conv2d(128, 128, kernel_size=(3,3),padding=2, stride=1)\n",
    "        self.c4 = nn.Conv2d(128, 128, kernel_size=(3,3),padding=2, stride=1)\n",
    "        self.fc1 = nn.Linear(128*5*5, 128)\n",
    "        self.fc2 = nn.Linear(128, 128)\n",
    "        self.fc3 = nn.Linear(128,7)\n",
    "\n",
    "    def forward(self, x):\n",
    "        x = F.max_pool2d(F.relu(self.g1(x)), kernel_size=2)\n",
    "        x = nn.Dropout2d()(x)\n",
    "        x = F.max_pool2d(F.relu(self.c1(x)), kernel_size=2)\n",
    "        x = nn.Dropout2d()(x)\n",
    "        x = F.max_pool2d(F.relu(self.c2(x)), kernel_size=2)\n",
    "        x = nn.Dropout2d()(x)\n",
    "        x = F.max_pool2d(F.relu(self.c3(x)), kernel_size=2)\n",
    "        x = nn.Dropout2d()(x)\n",
    "        x = F.max_pool2d(F.relu(self.c4(x)), kernel_size=2)\n",
    "        x = nn.Dropout2d()(x)\n",
    "        x = x.view(-1, 128*5*5)\n",
    "        x = F.relu(self.fc1(x))\n",
    "        x = nn.Dropout()(x)\n",
    "        x = F.relu(self.fc2(x))\n",
    "        x = nn.Dropout()(x)\n",
    "        x = self.fc3(x)\n",
    "        return x\n",
    "\n",
    "def weights_init(m):\n",
    "    classname = m.__class__.__name__\n",
    "    if classname.find('Conv') != -1:\n",
    "        nn.init.xavier_uniform_(m.weight.data)"
   ]
  },
  {
   "cell_type": "code",
   "execution_count": null,
   "metadata": {
    "collapsed": false
   },
   "outputs": [],
   "source": [
    "device = torch.device(\"cuda:0\" if torch.cuda.is_available() else \"cpu\")\n",
    "print(device)\n",
    "net = GaborNet_one_layer().to(device)\n",
    "net.apply(weights_init)\n",
    "print(net)\n",
    "criterion = nn.CrossEntropyLoss()\n",
    "optimizer = optim.Adam(net.parameters())"
   ]
  },
  {
   "cell_type": "code",
   "execution_count": null,
   "metadata": {
    "collapsed": false
   },
   "outputs": [],
   "source": [
    "net(torch.normal(torch.Tensor(1,3,128,128)).to(device))"
   ]
  },
  {
   "cell_type": "code",
   "execution_count": null,
   "metadata": {
    "collapsed": false
   },
   "outputs": [],
   "source": [
    "for epoch in range(10):\n",
    "\n",
    "    running_loss = 0.0\n",
    "    correct = 0\n",
    "    net.train()\n",
    "    for i, data in enumerate(train, 0):\n",
    "        # get the inputs\n",
    "        inputs, labels = data['image'], data['target']\n",
    "\n",
    "        # zero the parameter gradients\n",
    "        optimizer.zero_grad()\n",
    "\n",
    "        # forward + backward + optimize\n",
    "        outputs = net(inputs.to(device))\n",
    "        loss = criterion(outputs, labels.to(device))\n",
    "        loss.backward()\n",
    "        optimizer.step()\n",
    "        pred = outputs.max(1, keepdim=True)[1].to('cpu')\n",
    "        correct += pred.eq(labels.view_as(pred)).sum().item()\n",
    "\n",
    "        # print statistics\n",
    "        running_loss += loss.item()\n",
    "    print('[%d] train_acc: %.3f train_loss: %.3f' %(epoch + 1, correct/len(train_set), running_loss/len(train_set))) \n",
    "    one_layer_gnet_acc_train.append(correct/len(train_set))\n",
    "    one_layer_gnet_loss_train.append(running_loss/len(train_set)) \n",
    "    \n",
    "    running_loss = 0.0\n",
    "    correct = 0\n",
    "    with torch.no_grad():\n",
    "        net.eval()\n",
    "        for i, data in enumerate(test, 0):\n",
    "            # get the inputs\n",
    "            inputs, labels = data['image'], data['target']\n",
    "\n",
    "            # forward + backward + optimize\n",
    "            outputs = net(inputs.to(device))\n",
    "            loss = criterion(outputs, labels.to(device))\n",
    "\n",
    "            pred = outputs.max(1, keepdim=True)[1].to('cpu')\n",
    "            correct += pred.eq(labels.view_as(pred)).sum().item()\n",
    "            running_loss += loss.item()\n",
    "    print('[%d] test_acc: %.3f test_loss: %.3f' %(epoch + 1, correct/len(test_set), running_loss/len(test_set)))\n",
    "    one_layer_gnet_acc_test.append(correct/len(test_set))\n",
    "    one_layer_gnet_loss_test.append(running_loss/len(test_set))      \n",
    "\n",
    "print('Finished Training')\n",
    "\n",
    "np.save('AffectiveNet_one_layer_gnet_acc_train.npy', one_layer_gnet_acc_train)\n",
    "np.save('AffectiveNet_one_layer_gnet_loss_train.npy', one_layer_gnet_loss_train)\n",
    "np.save('AffectiveNet_one_layer_gnet_acc_test.npy', one_layer_gnet_acc_test)\n",
    "np.save('AffectiveNet_one_layer_gnet_loss_test.npy', one_layer_gnet_loss_test)"
   ]
  },
  {
   "cell_type": "code",
   "execution_count": null,
   "metadata": {
    "collapsed": false
   },
   "outputs": [],
   "source": []
  },
  {
   "cell_type": "code",
   "execution_count": 34,
   "metadata": {
    "collapsed": true
   },
   "outputs": [],
   "source": [
    "class convNet(nn.Module):\n",
    "    def __init__(self):\n",
    "        super(convNet, self).__init__()\n",
    "        self.c0 = nn.Conv2d(3, 64, kernel_size=(5,5), stride=1)\n",
    "        self.c1 = nn.Conv2d(64, 128, kernel_size=(3,3), padding=3, stride=1)\n",
    "        self.c2 = nn.Conv2d(128, 128, kernel_size=(3,3), padding=3, stride=1)\n",
    "        self.c3 = nn.Conv2d(128, 256, kernel_size=(3,3),padding=2, stride=1)\n",
    "        self.c4 = nn.Conv2d(256, 512, kernel_size=(3,3),padding=1, stride=1)\n",
    "        self.c5 = nn.Conv2d(512, 512, kernel_size=(3,3), stride=1)\n",
    "        self.c6 = nn.Conv2d(512, 512, kernel_size=(3,3), stride=1)\n",
    "        self.fc1 = nn.Linear(512, 100)\n",
    "        self.fc2 = nn.Linear(100, 8)\n",
    "\n",
    "    def forward(self, x):\n",
    "        x = F.max_pool2d(F.relu(self.c0(x)), kernel_size=2)\n",
    "        x = nn.Dropout2d()(x)\n",
    "        x = F.max_pool2d(F.relu(self.c1(x)), kernel_size=2)\n",
    "        x = nn.Dropout2d()(x)\n",
    "        x = F.max_pool2d(F.relu(self.c2(x)), kernel_size=2)\n",
    "        x = nn.Dropout2d()(x)\n",
    "        x = F.max_pool2d(F.relu(self.c3(x)), kernel_size=2)\n",
    "        x = nn.Dropout2d()(x)\n",
    "        x = F.max_pool2d(F.relu(self.c4(x)), kernel_size=2)\n",
    "        x = nn.Dropout2d()(x)\n",
    "        x = F.max_pool2d(F.relu(self.c5(x)), kernel_size=2)\n",
    "        x = nn.Dropout2d()(x)\n",
    "        x = F.max_pool2d(F.relu(self.c6(x)), kernel_size=2)\n",
    "        x = nn.Dropout2d()(x)\n",
    "        x = x.view(-1, 512)\n",
    "        x = F.relu(self.fc1(x))\n",
    "        x = nn.Dropout()(x)\n",
    "        x = self.fc2(x)\n",
    "        return x"
   ]
  },
  {
   "cell_type": "code",
   "execution_count": 35,
   "metadata": {
    "collapsed": false
   },
   "outputs": [
    {
     "name": "stdout",
     "output_type": "stream",
     "text": [
      "cuda:0\n",
      "convNet(\n",
      "  (c0): Conv2d(3, 64, kernel_size=(5, 5), stride=(1, 1))\n",
      "  (c1): Conv2d(64, 128, kernel_size=(3, 3), stride=(1, 1), padding=(3, 3))\n",
      "  (c2): Conv2d(128, 128, kernel_size=(3, 3), stride=(1, 1), padding=(3, 3))\n",
      "  (c3): Conv2d(128, 256, kernel_size=(3, 3), stride=(1, 1), padding=(2, 2))\n",
      "  (c4): Conv2d(256, 512, kernel_size=(3, 3), stride=(1, 1), padding=(1, 1))\n",
      "  (c5): Conv2d(512, 512, kernel_size=(3, 3), stride=(1, 1))\n",
      "  (c6): Conv2d(512, 512, kernel_size=(3, 3), stride=(1, 1))\n",
      "  (fc1): Linear(in_features=512, out_features=100, bias=True)\n",
      "  (fc2): Linear(in_features=100, out_features=8, bias=True)\n",
      ")\n"
     ]
    }
   ],
   "source": [
    "device = torch.device(\"cuda:0\" if torch.cuda.is_available() else \"cpu\")\n",
    "print(device)\n",
    "net = convNet().to(device)\n",
    "net.apply(weights_init)\n",
    "print(net)\n",
    "criterion = nn.CrossEntropyLoss()\n",
    "optimizer = optim.Adam(net.parameters())"
   ]
  },
  {
   "cell_type": "code",
   "execution_count": 36,
   "metadata": {
    "collapsed": false
   },
   "outputs": [
    {
     "data": {
      "text/plain": [
       "tensor([[ 1.7396e+30, -1.3669e+30,  2.3609e+28, -1.4864e+30,  3.5529e+30,\n",
       "         -9.5927e+29, -2.2388e+30,  2.8996e+30]], device='cuda:0',\n",
       "       grad_fn=<AddmmBackward>)"
      ]
     },
     "execution_count": 36,
     "metadata": {},
     "output_type": "execute_result"
    }
   ],
   "source": [
    "net(torch.normal(torch.Tensor(1,3,256,256)).to(device))"
   ]
  },
  {
   "cell_type": "code",
   "execution_count": 37,
   "metadata": {
    "collapsed": false
   },
   "outputs": [
    {
     "name": "stdout",
     "output_type": "stream",
     "text": [
      "no image\n",
      "[1] train_acc: 0.000 train_loss: 0.000\n"
     ]
    },
    {
     "ename": "NameError",
     "evalue": "name 'convnet_acc_train' is not defined",
     "output_type": "error",
     "traceback": [
      "\u001b[0;31m---------------------------------------------------------------------------\u001b[0m",
      "\u001b[0;31mNameError\u001b[0m                                 Traceback (most recent call last)",
      "\u001b[0;32m<ipython-input-37-e4bd3baa137f>\u001b[0m in \u001b[0;36m<module>\u001b[0;34m()\u001b[0m\n\u001b[1;32m     26\u001b[0m         \u001b[1;32mpass\u001b[0m\u001b[1;33m\u001b[0m\u001b[0m\n\u001b[1;32m     27\u001b[0m     \u001b[0mprint\u001b[0m\u001b[1;33m(\u001b[0m\u001b[1;34m'[%d] train_acc: %.3f train_loss: %.3f'\u001b[0m \u001b[1;33m%\u001b[0m\u001b[1;33m(\u001b[0m\u001b[0mepoch\u001b[0m \u001b[1;33m+\u001b[0m \u001b[1;36m1\u001b[0m\u001b[1;33m,\u001b[0m \u001b[0mcorrect\u001b[0m\u001b[1;33m/\u001b[0m\u001b[0mlen\u001b[0m\u001b[1;33m(\u001b[0m\u001b[0mtrain_set\u001b[0m\u001b[1;33m)\u001b[0m\u001b[1;33m,\u001b[0m \u001b[0mrunning_loss\u001b[0m\u001b[1;33m/\u001b[0m\u001b[0mlen\u001b[0m\u001b[1;33m(\u001b[0m\u001b[0mtrain_set\u001b[0m\u001b[1;33m)\u001b[0m\u001b[1;33m)\u001b[0m\u001b[1;33m)\u001b[0m\u001b[1;33m\u001b[0m\u001b[0m\n\u001b[0;32m---> 28\u001b[0;31m     \u001b[0mconvnet_acc_train\u001b[0m\u001b[1;33m.\u001b[0m\u001b[0mappend\u001b[0m\u001b[1;33m(\u001b[0m\u001b[0mcorrect\u001b[0m\u001b[1;33m/\u001b[0m\u001b[0mlen\u001b[0m\u001b[1;33m(\u001b[0m\u001b[0mtrain_set\u001b[0m\u001b[1;33m)\u001b[0m\u001b[1;33m)\u001b[0m\u001b[1;33m\u001b[0m\u001b[0m\n\u001b[0m\u001b[1;32m     29\u001b[0m     \u001b[0mconvnet_loss_train\u001b[0m\u001b[1;33m.\u001b[0m\u001b[0mappend\u001b[0m\u001b[1;33m(\u001b[0m\u001b[0mrunning_loss\u001b[0m\u001b[1;33m/\u001b[0m\u001b[0mlen\u001b[0m\u001b[1;33m(\u001b[0m\u001b[0mtrain_set\u001b[0m\u001b[1;33m)\u001b[0m\u001b[1;33m)\u001b[0m\u001b[1;33m\u001b[0m\u001b[0m\n\u001b[1;32m     30\u001b[0m \u001b[1;33m\u001b[0m\u001b[0m\n",
      "\u001b[0;31mNameError\u001b[0m: name 'convnet_acc_train' is not defined"
     ]
    }
   ],
   "source": [
    "for epoch in range(10):\n",
    "\n",
    "    running_loss = 0.0\n",
    "    correct = 0\n",
    "    net.train()\n",
    "    try:\n",
    "        for i, data in enumerate(train, 0):\n",
    "            # get the inputs\n",
    "            inputs, labels = data['image'], data['target']\n",
    "\n",
    "            # zero the parameter gradients\n",
    "            optimizer.zero_grad()\n",
    "\n",
    "            # forward + backward + optimize\n",
    "            outputs = net(inputs.to(device))\n",
    "            loss = criterion(outputs, labels.to(device))\n",
    "            loss.backward()\n",
    "            optimizer.step()\n",
    "            pred = outputs.max(1, keepdim=True)[1].to('cpu')\n",
    "            correct += pred.eq(labels.view_as(pred)).sum().item()\n",
    "\n",
    "            # print statistics\n",
    "            running_loss += loss.item()\n",
    "    except:\n",
    "        print('no image')\n",
    "        pass\n",
    "    print('[%d] train_acc: %.3f train_loss: %.3f' %(epoch + 1, correct/len(train_set), running_loss/len(train_set))) \n",
    "    convnet_acc_train.append(correct/len(train_set))\n",
    "    convnet_loss_train.append(running_loss/len(train_set)) \n",
    "    \n",
    "    running_loss = 0.0\n",
    "    correct = 0\n",
    "    with torch.no_grad():\n",
    "        net.eval()\n",
    "        for i, data in enumerate(test, 0):\n",
    "            # get the inputs\n",
    "            inputs, labels = data['image'], data['target']\n",
    "\n",
    "            # forward + backward + optimize\n",
    "            outputs = net(inputs.to(device))\n",
    "            loss = criterion(outputs, labels.to(device))\n",
    "\n",
    "            pred = outputs.max(1, keepdim=True)[1].to('cpu')\n",
    "            correct += pred.eq(labels.view_as(pred)).sum().item()\n",
    "            running_loss += loss.item()\n",
    "    print('[%d] test_acc: %.3f test_loss: %.3f' %(epoch + 1, correct/len(test_set), running_loss/len(test_set)))\n",
    "    convnet_acc_test.append(correct/len(test_set))\n",
    "    convnet_loss_test.append(running_loss/len(test_set))      \n",
    "\n",
    "print('Finished Training')\n",
    "\n",
    "np.save('AffectiveNet_convnet_acc_train.npy', convnet_acc_train)\n",
    "np.save('AffectiveNet_convnet_loss_train.npy', convnet_loss_train)\n",
    "np.save('AffectiveNet_convnet_acc_test.npy', convnet_acc_test)\n",
    "np.save('AffectiveNet_convnet_loss_test.npy', convnet_loss_test)"
   ]
  },
  {
   "cell_type": "code",
   "execution_count": null,
   "metadata": {
    "collapsed": true
   },
   "outputs": [],
   "source": []
  }
 ],
 "metadata": {
  "kernelspec": {
   "display_name": "Python [conda env:Anaconda3]",
   "language": "python",
   "name": "conda-env-Anaconda3-py"
  },
  "language_info": {
   "codemirror_mode": {
    "name": "ipython",
    "version": 3
   },
   "file_extension": ".py",
   "mimetype": "text/x-python",
   "name": "python",
   "nbconvert_exporter": "python",
   "pygments_lexer": "ipython3",
   "version": "3.5.2"
  }
 },
 "nbformat": 4,
 "nbformat_minor": 1
}
