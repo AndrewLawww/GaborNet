{
 "cells": [
  {
   "cell_type": "markdown",
   "metadata": {},
   "source": [
    "GaborNet with FC gabor parameters optimization"
   ]
  },
  {
   "cell_type": "code",
   "execution_count": 1,
   "metadata": {
    "collapsed": true
   },
   "outputs": [],
   "source": [
    "import torch.nn as nn\n",
    "import torch.nn.functional as F\n",
    "import torch.optim as optim\n",
    "import torch\n",
    "import numpy as np\n",
    "import cv2\n",
    "import matplotlib.pyplot as plt\n",
    "from numpy.random import rand, randn"
   ]
  },
  {
   "cell_type": "code",
   "execution_count": 2,
   "metadata": {
    "collapsed": true
   },
   "outputs": [],
   "source": [
    "def getRandomGaborParams(size):\n",
    "    \n",
    "    theta = np.pi*(2*rand() - 1)\n",
    "    psi = np.pi*rand()\n",
    "    sigma = 3*np.abs(randn()) + 10e-3\n",
    "    lambd = 5*np.abs(randn()) + 10e-3\n",
    "    gamma = np.pi*rand()\n",
    "    return {'ksize':size, 'sigma':sigma, 'theta': theta, 'lambd':lambd, 'gamma':gamma, 'psi': psi}\n",
    "\n",
    "def calcGaborKernel(params):\n",
    "    return cv2.getGaborKernel(**params)"
   ]
  },
  {
   "cell_type": "code",
   "execution_count": null,
   "metadata": {
    "collapsed": true
   },
   "outputs": [],
   "source": [
    "class Net(nn.Module):\n",
    "    def __init__(self, size):\n",
    "        super(Net, self).__init__()\n",
    "        \n",
    "        #self.fc1 = nn.Linear(1, 5, bias=False)\n",
    "        #self.fc1.weight.requires_grad = False\n",
    "        self.fc2 = nn.Linear(5, 5)\n",
    "        self.fc3 = nn.Linear(5, 100)\n",
    "        self.fc4 = nn.Linear(100,size[0]*size[1])\n",
    "        self.fc5 = nn.Linear(size[0]*size[1], size[0]*size[1])\n",
    "\n",
    "    def forward(self, x):\n",
    "        x = torch.FloatTensor(x).squeeze().to(device)\n",
    "        #self.fc1.weight = torch.nn.Parameter(torch.FloatTensor(params))\n",
    "        #x = self.fc1(x)\n",
    "        x = F.relu(self.fc2(x))\n",
    "        x = F.relu(self.fc3(x))\n",
    "        x = F.relu(self.fc4(x))\n",
    "        x = self.fc5(x)\n",
    "        return x"
   ]
  }
 ],
 "metadata": {
  "anaconda-cloud": {},
  "kernelspec": {
   "display_name": "Python [conda env:Anaconda3]",
   "language": "python",
   "name": "conda-env-Anaconda3-py"
  },
  "language_info": {
   "codemirror_mode": {
    "name": "ipython",
    "version": 3
   },
   "file_extension": ".py",
   "mimetype": "text/x-python",
   "name": "python",
   "nbconvert_exporter": "python",
   "pygments_lexer": "ipython3",
   "version": "3.5.2"
  }
 },
 "nbformat": 4,
 "nbformat_minor": 1
}
